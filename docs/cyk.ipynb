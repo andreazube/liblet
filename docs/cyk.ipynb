{
 "cells": [
  {
   "cell_type": "markdown",
   "metadata": {},
   "source": [
    "# The Cocke, Younger, and Kasami algorithm\n",
    "\n",
    "To give a thorough example of usage of the library, here we present the CYK parsing algorithm following the approach of [Parsing Techniques](https://dickgrune.com//Books/PTAPG_2nd_Edition/), an eccellent book on parsing by Dick Grune and Ceriel J.H. Jacobs. \n",
    "\n",
    "## Hygiene in Context-Free Grammars\n",
    "\n",
    "First of all, let's start with a series of techniques to clean the *context-free* grammar the algorithm will work on.\n",
    "\n",
    "### Unreachable, non-productive and undefined symbols\n",
    "\n",
    "Let's start with the *context-free* grammar $G$ of Figure 2.25 at page 49, we'll be following the flow of Sections 2.9.1, 2.9.2 and 2.9.5."
   ]
  },
  {
   "cell_type": "code",
   "execution_count": 1,
   "metadata": {},
   "outputs": [],
   "source": [
    "from liblet import Grammar\n",
    "\n",
    "G = Grammar.from_string(\"\"\"\n",
    "S -> A B | D E\n",
    "A -> a\n",
    "B -> b C\n",
    "C -> c\n",
    "D -> d F \n",
    "E -> e \n",
    "F -> f D\n",
    "\"\"\")"
   ]
  },
  {
   "cell_type": "markdown",
   "metadata": {},
   "source": [
    "We can use the LibLET `@closure` decorator to obtain the *productive* symbols by extending at every round the set `prod` of productive symbols as `{A for A, α in G.P if set(α) <= prod}`, that is taking all the *lefthand* sides of productions whose *righthand* sides are in turn made of productive symbols."
   ]
  },
  {
   "cell_type": "code",
   "execution_count": 2,
   "metadata": {},
   "outputs": [],
   "source": [
    "from liblet import closure\n",
    "\n",
    "def find_productive(G):\n",
    "    @closure\n",
    "    def find(prod):\n",
    "        return prod | {A for A, α in G.P if set(α) <= prod}\n",
    "    return set(find(G.T))"
   ]
  },
  {
   "cell_type": "code",
   "execution_count": 3,
   "metadata": {},
   "outputs": [
    {
     "data": {
      "text/plain": [
       "{'A', 'B', 'C', 'E', 'S', 'a', 'b', 'c', 'd', 'e', 'f'}"
      ]
     },
     "execution_count": 3,
     "metadata": {},
     "output_type": "execute_result"
    }
   ],
   "source": [
    "find_productive(G)"
   ]
  },
  {
   "cell_type": "markdown",
   "metadata": {},
   "source": [
    "Similarly, we can obtain the *reachable* symbols by extending at every round the set `reach` of reachable symbols as `union_of(set(α) for A, α in G.P if A in reach)}`, that is taking the union all the *righthand* sides of productions whose *lefthand* sides are in turn reachable."
   ]
  },
  {
   "cell_type": "code",
   "execution_count": 4,
   "metadata": {},
   "outputs": [],
   "source": [
    "from liblet import union_of\n",
    "\n",
    "def find_reachable(G):\n",
    "    @closure\n",
    "    def find(reach, G):\n",
    "        return reach | union_of(set(α) for A, α in G.P if A in reach)\n",
    "    return find({G.S}, G)   "
   ]
  },
  {
   "cell_type": "code",
   "execution_count": 5,
   "metadata": {},
   "outputs": [
    {
     "data": {
      "text/plain": [
       "{'A', 'B', 'C', 'D', 'E', 'F', 'S', 'a', 'b', 'c', 'd', 'e', 'f'}"
      ]
     },
     "execution_count": 5,
     "metadata": {},
     "output_type": "execute_result"
    }
   ],
   "source": [
    "find_reachable(G)"
   ]
  },
  {
   "cell_type": "markdown",
   "metadata": {},
   "source": [
    "To clean the grammar one has first to eliminate the non-productive symbols and the the non-reachable onse (as acting in the reverse order can leave around non-reachable symbols after the first removal)."
   ]
  },
  {
   "cell_type": "code",
   "execution_count": 6,
   "metadata": {},
   "outputs": [],
   "source": [
    "def remove_unproductive_unreachable(G):\n",
    "    Gp = G.restrict_to(find_productive(G))\n",
    "    return Gp.restrict_to(find_reachable(Gp))"
   ]
  },
  {
   "cell_type": "code",
   "execution_count": 7,
   "metadata": {},
   "outputs": [
    {
     "data": {
      "text/plain": [
       "Grammar(N={A, B, C, S}, T={a, b, c}, P=(S -> A B, A -> a, B -> b C, C -> c), S=S)"
      ]
     },
     "execution_count": 7,
     "metadata": {},
     "output_type": "execute_result"
    }
   ],
   "source": [
    "remove_unproductive_unreachable(G)"
   ]
  },
  {
   "cell_type": "markdown",
   "metadata": {},
   "source": [
    "To remove *undefined* nonterminals is easy, it's enough to collect the ones appearing as *lefthand* side in some production and throw away the others"
   ]
  },
  {
   "cell_type": "code",
   "execution_count": 8,
   "metadata": {},
   "outputs": [],
   "source": [
    "def remove_undefined(G):\n",
    "    return G.restrict_to({A for A, α in G.P} | G.T)"
   ]
  },
  {
   "cell_type": "markdown",
   "metadata": {},
   "source": [
    "Given that `Grammar.from_string` considers nonterminal just the symbols on the *lefthand* sides, to check that the last method works we need to build a grammar in another way:"
   ]
  },
  {
   "cell_type": "code",
   "execution_count": 27,
   "metadata": {},
   "outputs": [
    {
     "data": {
      "text/plain": [
       "Grammar(N={S, T}, T={s}, P=(S -> s,), S=S)"
      ]
     },
     "execution_count": 27,
     "metadata": {},
     "output_type": "execute_result"
    }
   ],
   "source": [
    "from liblet import Production\n",
    "\n",
    "Gu = Grammar({'S', 'T'}, {'s'}, (Production('S', ('s',)),), 'S')\n",
    "Gu"
   ]
  },
  {
   "cell_type": "code",
   "execution_count": 52,
   "metadata": {},
   "outputs": [
    {
     "data": {
      "text/plain": [
       "Grammar(N={S}, T={s}, P=(S -> s,), S=S)"
      ]
     },
     "execution_count": 52,
     "metadata": {},
     "output_type": "execute_result"
    }
   ],
   "source": [
    "remove_undefined(Gu)"
   ]
  },
  {
   "cell_type": "markdown",
   "metadata": {},
   "source": [
    "Observe that undefined symbols are non-productive, hence `remove_unproductive_unreachable` will take implicitly care of them."
   ]
  },
  {
   "cell_type": "markdown",
   "metadata": {},
   "source": [
    "## Transforming the Grammar into Chomsky Normal Form\n",
    "\n",
    "Now that the grammar contains only defined, productive and reachable symbols, to get to the CHomsky normal form we need to take care of ε-rules and unit rules (following Section 4.2.3).\n",
    "\n",
    "### Elimination of ε-rules\n",
    "\n",
    "The elimination of ε-rules is performed in a series of consecutive steps, adding new nonterminals and productions.\n",
    "\n",
    "As an example grammar we use the one of Figure 4.10 at page 120."
   ]
  },
  {
   "cell_type": "code",
   "execution_count": 29,
   "metadata": {},
   "outputs": [],
   "source": [
    "G = Grammar.from_string(\"\"\"\n",
    "S -> L a M\n",
    "L -> L M \n",
    "L -> ε\n",
    "M -> M M\n",
    "M -> ε\n",
    "\"\"\")"
   ]
  },
  {
   "cell_type": "markdown",
   "metadata": {},
   "source": [
    "Given a rule $A\\to ε$ we look for rules of the form $B\\to αAβ$ and \"inline\" the ε-rule by\n",
    "adding two new rules $B\\to αA'β$ and $B\\to αβ$ where $A'$ is a new nonterminal; this of course need to be iterated (in a closure) to cope with productions where $A$ appears more than once in the *righthand* side."
   ]
  },
  {
   "cell_type": "code",
   "execution_count": 30,
   "metadata": {},
   "outputs": [],
   "source": [
    "@closure\n",
    "def replace_in_rhs(G, A):\n",
    "    Ap = A + '’'\n",
    "    prods = set()\n",
    "    for B, β in G.P:\n",
    "        if A in β:\n",
    "            pos = β.index(A)\n",
    "            rhs = β[:pos] + β[pos + 1:]\n",
    "            if len(rhs) == 0: rhs = ('ε', )\n",
    "            prods.add(Production(B, rhs))\n",
    "            prods.add(Production(B, β[:pos] + (Ap, ) + β[pos + 1:]))\n",
    "        else:\n",
    "            prods.add(Production(B, β))    \n",
    "    return Grammar(G.N | {Ap}, G.T, prods, G.S)"
   ]
  },
  {
   "cell_type": "code",
   "execution_count": 31,
   "metadata": {},
   "outputs": [
    {
     "data": {
      "text/html": [
       "<table><tr><th>S<td style=\"text-align:left\">L a | L a M’<tr><th>L<td style=\"text-align:left\">L | L M’ | ε<tr><th>M<td style=\"text-align:left\">M’ | M’ M’ | ε<tr><th>M’<td style=\"text-align:left\"></table>"
      ],
      "text/plain": [
       "<IPython.core.display.HTML object>"
      ]
     },
     "execution_count": 31,
     "metadata": {},
     "output_type": "execute_result"
    }
   ],
   "source": [
    "from liblet import prods2table\n",
    "\n",
    "Gp = replace_in_rhs(G, 'M')\n",
    "prods2table(Gp)"
   ]
  },
  {
   "cell_type": "markdown",
   "metadata": {},
   "source": [
    "The above procedure must be repeated for evey ε-rule, moreover since the process can intruduce new ε-rules, a closure is again needed."
   ]
  },
  {
   "cell_type": "code",
   "execution_count": 32,
   "metadata": {},
   "outputs": [],
   "source": [
    "@closure\n",
    "def inline_ε_rules(G_seen):\n",
    "    G, seen = G_seen\n",
    "    for A in G.N - seen:\n",
    "        if ('ε', ) in G.alternatives(A):\n",
    "            return replace_in_rhs(G, A), seen | {A}\n",
    "    return G, seen"
   ]
  },
  {
   "cell_type": "code",
   "execution_count": 34,
   "metadata": {},
   "outputs": [
    {
     "data": {
      "text/html": [
       "<table><tr><th>S<td style=\"text-align:left\">L’ a | L’ a M’ | a | a M’<tr><th>L<td style=\"text-align:left\">L’ | L’ M’ | M’ | ε<tr><th>L’<td style=\"text-align:left\"><tr><th>M<td style=\"text-align:left\">M’ | M’ M’ | ε<tr><th>M’<td style=\"text-align:left\"></table>"
      ],
      "text/plain": [
       "<IPython.core.display.HTML object>"
      ]
     },
     "execution_count": 34,
     "metadata": {},
     "output_type": "execute_result"
    }
   ],
   "source": [
    "Gp, _ = inline_ε_rules((G, set()))\n",
    "prods2table(Gp)"
   ]
  },
  {
   "cell_type": "markdown",
   "metadata": {},
   "source": [
    "The *lefthand* sides of the ε rules now are unreachable, but the new \"primed\" nonterminals must now be defined, using the non-empty *righthand* sides of the one they inlined."
   ]
  },
  {
   "cell_type": "code",
   "execution_count": 35,
   "metadata": {},
   "outputs": [],
   "source": [
    "def eliminate_ε_rules(G):\n",
    "    Gp, _ = inline_ε_rules((G, set()))\n",
    "    prods = set(Gp.P)\n",
    "    for Ap in Gp.N - G.N:\n",
    "        A = Ap[:-1]\n",
    "        for α in set(Gp.alternatives(A)) - {('ε', )}:\n",
    "            prods.add(Production(Ap, α))\n",
    "    return Grammar(Gp.N, Gp.T, prods, Gp.S)"
   ]
  },
  {
   "cell_type": "code",
   "execution_count": 36,
   "metadata": {},
   "outputs": [
    {
     "data": {
      "text/html": [
       "<table><tr><th>S<td style=\"text-align:left\">L’ a | L’ a M’ | a | a M’<tr><th>L<td style=\"text-align:left\">L’ | L’ M’ | M’ | ε<tr><th>L’<td style=\"text-align:left\">L’ | L’ M’ | M’<tr><th>M<td style=\"text-align:left\">M’ | M’ M’ | ε<tr><th>M’<td style=\"text-align:left\">M’ | M’ M’</table>"
      ],
      "text/plain": [
       "<IPython.core.display.HTML object>"
      ]
     },
     "execution_count": 36,
     "metadata": {},
     "output_type": "execute_result"
    }
   ],
   "source": [
    "prods2table(eliminate_ε_rules(G))"
   ]
  },
  {
   "cell_type": "markdown",
   "metadata": {},
   "source": [
    "Removing the unreachable and non-productive rules leads to quite a drastic simplification!"
   ]
  },
  {
   "cell_type": "code",
   "execution_count": 37,
   "metadata": {},
   "outputs": [
    {
     "data": {
      "text/plain": [
       "Grammar(N={S}, T={a}, P=(S -> a,), S=S)"
      ]
     },
     "execution_count": 37,
     "metadata": {},
     "output_type": "execute_result"
    }
   ],
   "source": [
    "remove_unproductive_unreachable(eliminate_ε_rules(G))"
   ]
  },
  {
   "cell_type": "markdown",
   "metadata": {},
   "source": [
    "### Elimination of unit rules\n",
    "\n",
    "To see what happens dealing with rules of the form $A\\to B$ we'll refer to a more complex grammar, the one of Figure 4.6 at page 112."
   ]
  },
  {
   "cell_type": "code",
   "execution_count": 81,
   "metadata": {},
   "outputs": [
    {
     "data": {
      "text/html": [
       "<table><tr><th>Number<td style=\"text-align:left\">Integer | Real<tr><th>Digit<td style=\"text-align:left\">0 | 1 | 2 | 3 | 4 | 5 | 6 | 7 | 8 | 9<tr><th>Empty<td style=\"text-align:left\">ε<tr><th>Fraction<td style=\"text-align:left\">. Integer<tr><th>Integer<td style=\"text-align:left\">Digit | Integer Digit<tr><th>Real<td style=\"text-align:left\">Integer Fraction Scale<tr><th>Scale<td style=\"text-align:left\">Empty | e Sign Integer<tr><th>Sign<td style=\"text-align:left\">+ | -</table>"
      ],
      "text/plain": [
       "<IPython.core.display.HTML object>"
      ]
     },
     "execution_count": 81,
     "metadata": {},
     "output_type": "execute_result"
    }
   ],
   "source": [
    "G = Grammar.from_string(\"\"\"\n",
    "Number -> Integer | Real\n",
    "Integer -> Digit | Integer Digit\n",
    "Real -> Integer Fraction Scale\n",
    "Fraction -> . Integer\n",
    "Scale -> e Sign Integer | Empty\n",
    "Digit -> 0 | 1 | 2 | 3 | 4 | 5 | 6 | 7 | 8 | 9\n",
    "Sign -> + | -\n",
    "Empty -> ε\n",
    "\"\"\")\n",
    "prods2table(G)"
   ]
  },
  {
   "cell_type": "markdown",
   "metadata": {},
   "source": [
    "We start by applying all the cleaning steps seen so far."
   ]
  },
  {
   "cell_type": "code",
   "execution_count": 82,
   "metadata": {},
   "outputs": [
    {
     "data": {
      "text/html": [
       "<table><tr><th>Number<td style=\"text-align:left\">Integer | Real<tr><th>Digit<td style=\"text-align:left\">0 | 1 | 2 | 3 | 4 | 5 | 6 | 7 | 8 | 9<tr><th>Fraction<td style=\"text-align:left\">. Integer<tr><th>Integer<td style=\"text-align:left\">Digit | Integer Digit<tr><th>Real<td style=\"text-align:left\">Integer Fraction | Integer Fraction Scale’<tr><th>Scale’<td style=\"text-align:left\">e Sign Integer<tr><th>Sign<td style=\"text-align:left\">+ | -</table>"
      ],
      "text/plain": [
       "<IPython.core.display.HTML object>"
      ]
     },
     "execution_count": 82,
     "metadata": {},
     "output_type": "execute_result"
    }
   ],
   "source": [
    "G = remove_unproductive_unreachable(eliminate_ε_rules(G))\n",
    "prods2table(G)"
   ]
  },
  {
   "cell_type": "markdown",
   "metadata": {},
   "source": [
    "The elimination of the unit rules is based again on a closure that replaces $A\\to B$ \n",
    "and $B\\to α$ with $A\\to α$."
   ]
  },
  {
   "cell_type": "code",
   "execution_count": 83,
   "metadata": {},
   "outputs": [],
   "source": [
    "def eliminate_unit_rules(G):\n",
    "    @closure\n",
    "    def clean(G_seen):\n",
    "        G, seen = G_seen\n",
    "        for P in set(filter(Production.such_that(rhs_len = 1), G.P)) - seen:\n",
    "            A, (B, ) = P\n",
    "            if B in G.N:            \n",
    "                prods = (set(G.P) | {Production(A, α) for α in G.alternatives(B)}) - {P}\n",
    "                return Grammar(G.N, G.T, prods, G.S), seen | {P}\n",
    "        return G, seen\n",
    "    return clean((G, set()))[0]"
   ]
  },
  {
   "cell_type": "code",
   "execution_count": 87,
   "metadata": {},
   "outputs": [
    {
     "data": {
      "text/html": [
       "<table><tr><th>Number<td style=\"text-align:left\">0 | 1 | 2 | 3 | 4 | 5 | 6 | 7 | 8 | 9 | Integer Digit | Integer Fraction | Integer Fraction Scale’<tr><th>Digit<td style=\"text-align:left\">0 | 1 | 2 | 3 | 4 | 5 | 6 | 7 | 8 | 9<tr><th>Fraction<td style=\"text-align:left\">N. Integer<tr><th>Integer<td style=\"text-align:left\">0 | 1 | 2 | 3 | 4 | 5 | 6 | 7 | 8 | 9 | Integer Digit<tr><th>N.<td style=\"text-align:left\">.<tr><th>Ne<td style=\"text-align:left\">e<tr><th>Real<td style=\"text-align:left\">Integer Fraction | Integer Fraction Scale’<tr><th>Scale’<td style=\"text-align:left\">Ne Sign Integer<tr><th>Sign<td style=\"text-align:left\">+ | -</table>"
      ],
      "text/plain": [
       "<IPython.core.display.HTML object>"
      ]
     },
     "execution_count": 87,
     "metadata": {},
     "output_type": "execute_result"
    }
   ],
   "source": [
    "G = eliminate_unit_rules(G)\n",
    "prods2table(G)"
   ]
  },
  {
   "cell_type": "markdown",
   "metadata": {},
   "source": [
    "### The normal form\n",
    "\n",
    "Two last cases need to be taken care of to get to the CNF. \n",
    "\n",
    "First we want to eliminate non-solitary terminals in *lefthand* sides, that is if $A\\to αaβ$ where $a\\in T$ and $α, β\\in N^*$; this is easily solved by introducing a new nonterminal $N_a$ and a new rule $N_a\\to a$, replacing the offending $A\\to αaβ$ with $A\\to αN_aβ$."
   ]
  },
  {
   "cell_type": "code",
   "execution_count": 88,
   "metadata": {},
   "outputs": [],
   "source": [
    "def transform_nonsolitary(G):\n",
    "    prods = set()\n",
    "    for A, α in G.P:\n",
    "        if len(α) > 1 and set(α) & G.T:\n",
    "            rhs = []\n",
    "            for x in α:\n",
    "                if x in G.T:\n",
    "                    N = 'N{}'.format(x)\n",
    "                    prods.add(Production(N, (x, )))\n",
    "                    rhs.append(N)\n",
    "                else:\n",
    "                    rhs.append(x)\n",
    "            prods.add(Production(A, rhs))\n",
    "        else:            \n",
    "            prods.add(Production(A, α))\n",
    "    return Grammar(G.N | {A for A, α in prods}, G.T, prods, G.S)"
   ]
  },
  {
   "cell_type": "code",
   "execution_count": 89,
   "metadata": {},
   "outputs": [
    {
     "data": {
      "text/html": [
       "<table><tr><th>Number<td style=\"text-align:left\">0 | 1 | 2 | 3 | 4 | 5 | 6 | 7 | 8 | 9 | Integer Digit | Integer Fraction | Integer Fraction Scale’<tr><th>Digit<td style=\"text-align:left\">0 | 1 | 2 | 3 | 4 | 5 | 6 | 7 | 8 | 9<tr><th>Fraction<td style=\"text-align:left\">N. Integer<tr><th>Integer<td style=\"text-align:left\">0 | 1 | 2 | 3 | 4 | 5 | 6 | 7 | 8 | 9 | Integer Digit<tr><th>N.<td style=\"text-align:left\">.<tr><th>Ne<td style=\"text-align:left\">e<tr><th>Real<td style=\"text-align:left\">Integer Fraction | Integer Fraction Scale’<tr><th>Scale’<td style=\"text-align:left\">Ne Sign Integer<tr><th>Sign<td style=\"text-align:left\">+ | -</table>"
      ],
      "text/plain": [
       "<IPython.core.display.HTML object>"
      ]
     },
     "execution_count": 89,
     "metadata": {},
     "output_type": "execute_result"
    }
   ],
   "source": [
    "G = transform_nonsolitary(G)\n",
    "prods2table(G)"
   ]
  },
  {
   "cell_type": "markdown",
   "metadata": {},
   "source": [
    "Finally we need to shorten *righthand* sides longer than 2 symbols. Again that is easily accomplished by introducing new nonterminals and rules."
   ]
  },
  {
   "cell_type": "code",
   "execution_count": 90,
   "metadata": {},
   "outputs": [],
   "source": [
    "def make_binary(G):\n",
    "    prods = set()\n",
    "    for A, α in G.P:\n",
    "        if len(α) > 2:\n",
    "            Ai = '{}{}'.format(A, 1)\n",
    "            prods.add(Production(Ai, α[:2]))\n",
    "            for i, Xi in enumerate(α[2:-1], 2):\n",
    "                prods.add(Production('{}{}'.format(A, i), (Ai, Xi)))\n",
    "                Ai = '{}{}'.format(A, i)\n",
    "            prods.add(Production(A, (Ai, α[-1])))\n",
    "        else:\n",
    "            prods.add(Production(A, α))\n",
    "    return Grammar(G.N | {A for A, α in prods}, G.T, prods, G.S)\n"
   ]
  },
  {
   "cell_type": "code",
   "execution_count": 91,
   "metadata": {},
   "outputs": [
    {
     "data": {
      "text/html": [
       "<table><tr><th>Number<td style=\"text-align:left\">0 | 1 | 2 | 3 | 4 | 5 | 6 | 7 | 8 | 9 | Integer Digit | Integer Fraction | Number1 Scale’<tr><th>Digit<td style=\"text-align:left\">0 | 1 | 2 | 3 | 4 | 5 | 6 | 7 | 8 | 9<tr><th>Fraction<td style=\"text-align:left\">N. Integer<tr><th>Integer<td style=\"text-align:left\">0 | 1 | 2 | 3 | 4 | 5 | 6 | 7 | 8 | 9 | Integer Digit<tr><th>N.<td style=\"text-align:left\">.<tr><th>Ne<td style=\"text-align:left\">e<tr><th>Number1<td style=\"text-align:left\">Integer Fraction<tr><th>Real<td style=\"text-align:left\">Integer Fraction | Real1 Scale’<tr><th>Real1<td style=\"text-align:left\">Integer Fraction<tr><th>Scale’<td style=\"text-align:left\">Scale’1 Integer<tr><th>Scale’1<td style=\"text-align:left\">Ne Sign<tr><th>Sign<td style=\"text-align:left\">+ | -</table>"
      ],
      "text/plain": [
       "<IPython.core.display.HTML object>"
      ]
     },
     "execution_count": 91,
     "metadata": {},
     "output_type": "execute_result"
    }
   ],
   "source": [
    "G = make_binary(G)\n",
    "prods2table(G)"
   ]
  },
  {
   "cell_type": "markdown",
   "metadata": {},
   "source": [
    "## Parsing\n",
    "\n",
    "Following the CYK description given in Section 4.2.2 we implement the algoritm by means of a dictionary that, for the key $(i, l)$, records the *lefthand* sides of productions deriving $s_{il}$ that is the substring of the input starting at $i$ and having length $l$."
   ]
  },
  {
   "cell_type": "code",
   "execution_count": 93,
   "metadata": {},
   "outputs": [],
   "source": [
    "def cyk(G, INPUT):\n",
    "    def fill(R, i, l):\n",
    "        res = set()\n",
    "        if l == 1:\n",
    "            for A, (a,) in filter(Production.such_that(rhs_len = 1), G.P): \n",
    "                if a == INPUT[i - 1]:\n",
    "                    res.add(A)\n",
    "        else:\n",
    "            for k in range(1, l):\n",
    "                for A, (B, C) in filter(Production.such_that(rhs_len = 2), G.P):\n",
    "                    if B in R[(i, k)] and C in R[(i + k, l - k)]:\n",
    "                        res.add(A)\n",
    "        return res\n",
    "    R = {}\n",
    "    for l in range(1, len(INPUT) + 1):\n",
    "        for i in range(1, len(INPUT) - l + 2): \n",
    "            R[(i, l)] = fill(R, i, l)\n",
    "    return R"
   ]
  },
  {
   "cell_type": "code",
   "execution_count": 98,
   "metadata": {
    "scrolled": false
   },
   "outputs": [
    {
     "data": {
      "text/html": [
       "<table class=\"table table-bordered\"><tr><td style=\"text-align:left\">Number\n",
       "Real<tr><td style=\"text-align:left\"><td style=\"text-align:left\">Number\n",
       "Real<tr><td style=\"text-align:left\"><td style=\"text-align:left\"><td style=\"text-align:left\"><tr><td style=\"text-align:left\">Number\n",
       "Number1\n",
       "Real\n",
       "Real1<td style=\"text-align:left\"><td style=\"text-align:left\"><td style=\"text-align:left\"><tr><td style=\"text-align:left\"><td style=\"text-align:left\">Number\n",
       "Number1\n",
       "Real\n",
       "Real1<td style=\"text-align:left\"><td style=\"text-align:left\"><td style=\"text-align:left\">Scale’<tr><td style=\"text-align:left\">Integer\n",
       "Number<td style=\"text-align:left\"><td style=\"text-align:left\">Fraction<td style=\"text-align:left\"><td style=\"text-align:left\">Scale’1<td style=\"text-align:left\"><tr><td style=\"text-align:left\">Digit\n",
       "Integer\n",
       "Number<td style=\"text-align:left\">Digit\n",
       "Integer\n",
       "Number<td style=\"text-align:left\">N.<td style=\"text-align:left\">Digit\n",
       "Integer\n",
       "Number<td style=\"text-align:left\">Ne<td style=\"text-align:left\">Sign<td style=\"text-align:left\">Digit\n",
       "Integer\n",
       "Number</table>"
      ],
      "text/plain": [
       "<IPython.core.display.HTML object>"
      ]
     },
     "execution_count": 98,
     "metadata": {},
     "output_type": "execute_result"
    }
   ],
   "source": [
    "from liblet import cyk2table\n",
    "\n",
    "INPUT = '32.5e+1'\n",
    "R = cyk(G, INPUT)\n",
    "cyk2table(R)"
   ]
  },
  {
   "cell_type": "markdown",
   "metadata": {},
   "source": [
    "### Getting the derivation from the table\n",
    "\n",
    "Once the table is filled, it's easy to get a leftmost production by recursing in the table following the same logic used to fill it."
   ]
  },
  {
   "cell_type": "code",
   "execution_count": 99,
   "metadata": {},
   "outputs": [],
   "source": [
    "from liblet import show_calls\n",
    "\n",
    "def get_leftmost_prods(G, R, INPUT):\n",
    "    @show_calls(True)\n",
    "    def prods(X, i, l):\n",
    "        if l == 1:\n",
    "            return [G.P.index(Production(X, (INPUT[i - 1],)))]\n",
    "        for A, (B, C) in filter(Production.such_that(lhs = X, rhs_len = 2), G.P):\n",
    "            for k in range(1, l):\n",
    "                if B in R[(i, k)] and C in R[(i + k, l - k)]:\n",
    "                    return [G.P.index(Production(A, (B, C)))] + prods(B, i, k) + prods(C, i + k, l - k)\n",
    "    return prods(G.S, 1, len(INPUT))            "
   ]
  },
  {
   "cell_type": "code",
   "execution_count": 100,
   "metadata": {},
   "outputs": [
    {
     "name": "stdout",
     "output_type": "stream",
     "text": [
      "┌prods('Number', 1, 7)\n",
      "│┌prods('Number1', 1, 4)\n",
      "││┌prods('Integer', 1, 2)\n",
      "│││┌prods('Integer', 1, 1)\n",
      "│││└─ [4]\n",
      "│││┌prods('Digit', 2, 1)\n",
      "│││└─ [9]\n",
      "││└─ [24, 4, 9]\n",
      "││┌prods('Fraction', 3, 2)\n",
      "│││┌prods('N.', 3, 1)\n",
      "│││└─ [28]\n",
      "│││┌prods('Integer', 4, 1)\n",
      "│││└─ [15]\n",
      "││└─ [5, 28, 15]\n",
      "│└─ [27, 24, 4, 9, 5, 28, 15]\n",
      "│┌prods('Scale’', 5, 3)\n",
      "││┌prods('Scale’1', 5, 2)\n",
      "│││┌prods('Ne', 5, 1)\n",
      "│││└─ [16]\n",
      "│││┌prods('Sign', 6, 1)\n",
      "│││└─ [19]\n",
      "││└─ [33, 16, 19]\n",
      "││┌prods('Integer', 7, 1)\n",
      "││└─ [17]\n",
      "│└─ [18, 33, 16, 19, 17]\n",
      "└─ [11, 27, 24, 4, 9, 5, 28, 15, 18, 33, 16, 19, 17]\n"
     ]
    }
   ],
   "source": [
    "prods = get_leftmost_prods(G, R, INPUT)"
   ]
  },
  {
   "cell_type": "code",
   "execution_count": 101,
   "metadata": {},
   "outputs": [
    {
     "data": {
      "image/svg+xml": [
       "<?xml version=\"1.0\" encoding=\"UTF-8\" standalone=\"no\"?>\n",
       "<!DOCTYPE svg PUBLIC \"-//W3C//DTD SVG 1.1//EN\"\n",
       " \"http://www.w3.org/Graphics/SVG/1.1/DTD/svg11.dtd\">\n",
       "<!-- Generated by graphviz version 2.40.1 (20161225.0304)\n",
       " -->\n",
       "<!-- Title: %3 Pages: 1 -->\n",
       "<svg width=\"428pt\" height=\"550pt\"\n",
       " viewBox=\"0.00 0.00 428.08 550.00\" xmlns=\"http://www.w3.org/2000/svg\" xmlns:xlink=\"http://www.w3.org/1999/xlink\">\n",
       "<g id=\"graph0\" class=\"graph\" transform=\"scale(1 1) rotate(0) translate(4 546)\">\n",
       "<title>%3</title>\n",
       "<polygon fill=\"#ffffff\" stroke=\"transparent\" points=\"-4,4 -4,-546 424.0796,-546 424.0796,4 -4,4\"/>\n",
       "<!-- &#45;6782828977394049392 -->\n",
       "<!-- 8879088962175974006 -->\n",
       "<!-- &#45;6782828977394049392&#45;&gt;8879088962175974006 -->\n",
       "<!-- 1689602490056042391 -->\n",
       "<g id=\"node2\" class=\"node\">\n",
       "<title>1689602490056042391</title>\n",
       "<path fill=\"none\" stroke=\"#000000\" stroke-width=\".25\" d=\"M321.8016,-542C321.8016,-542 282.716,-542 282.716,-542 279.0493,-542 275.3827,-538.3333 275.3827,-534.6667 275.3827,-534.6667 275.3827,-527.3333 275.3827,-527.3333 275.3827,-523.6667 279.0493,-520 282.716,-520 282.716,-520 321.8016,-520 321.8016,-520 325.4682,-520 329.1349,-523.6667 329.1349,-527.3333 329.1349,-527.3333 329.1349,-534.6667 329.1349,-534.6667 329.1349,-538.3333 325.4682,-542 321.8016,-542\"/>\n",
       "<text text-anchor=\"middle\" x=\"302.2588\" y=\"-526.8\" font-family=\"Times,serif\" font-size=\"14.00\" fill=\"#000000\">Number</text>\n",
       "</g>\n",
       "<!-- &#45;4463361562398526644 -->\n",
       "<g id=\"node4\" class=\"node\">\n",
       "<title>&#45;4463361562398526644</title>\n",
       "<path fill=\"none\" stroke=\"#000000\" stroke-width=\".25\" d=\"M290.3016,-502C290.3016,-502 244.216,-502 244.216,-502 240.5494,-502 236.8827,-498.3333 236.8827,-494.6667 236.8827,-494.6667 236.8827,-487.3333 236.8827,-487.3333 236.8827,-483.6667 240.5494,-480 244.216,-480 244.216,-480 290.3016,-480 290.3016,-480 293.9682,-480 297.6349,-483.6667 297.6349,-487.3333 297.6349,-487.3333 297.6349,-494.6667 297.6349,-494.6667 297.6349,-498.3333 293.9682,-502 290.3016,-502\"/>\n",
       "<text text-anchor=\"middle\" x=\"267.2588\" y=\"-486.8\" font-family=\"Times,serif\" font-size=\"14.00\" fill=\"#000000\">Number1</text>\n",
       "</g>\n",
       "<!-- 1689602490056042391&#45;&gt;&#45;4463361562398526644 -->\n",
       "<g id=\"edge2\" class=\"edge\">\n",
       "<title>1689602490056042391&#45;&gt;&#45;4463361562398526644</title>\n",
       "<path fill=\"none\" stroke=\"#000000\" stroke-width=\".5\" d=\"M292.3228,-519.6446C287.5532,-514.1937 281.8554,-507.6819 277.0985,-502.2453\"/>\n",
       "</g>\n",
       "<!-- 7646417947516880137 -->\n",
       "<g id=\"node5\" class=\"node\">\n",
       "<title>7646417947516880137</title>\n",
       "<path fill=\"none\" stroke=\"#000000\" stroke-width=\".25\" d=\"M351.405,-502C351.405,-502 323.1126,-502 323.1126,-502 319.446,-502 315.7793,-498.3333 315.7793,-494.6667 315.7793,-494.6667 315.7793,-487.3333 315.7793,-487.3333 315.7793,-483.6667 319.446,-480 323.1126,-480 323.1126,-480 351.405,-480 351.405,-480 355.0716,-480 358.7383,-483.6667 358.7383,-487.3333 358.7383,-487.3333 358.7383,-494.6667 358.7383,-494.6667 358.7383,-498.3333 355.0716,-502 351.405,-502\"/>\n",
       "<text text-anchor=\"middle\" x=\"337.2588\" y=\"-486.8\" font-family=\"Times,serif\" font-size=\"14.00\" fill=\"#000000\">Scale’</text>\n",
       "</g>\n",
       "<!-- 1689602490056042391&#45;&gt;7646417947516880137 -->\n",
       "<g id=\"edge3\" class=\"edge\">\n",
       "<title>1689602490056042391&#45;&gt;7646417947516880137</title>\n",
       "<path fill=\"none\" stroke=\"#000000\" stroke-width=\".5\" d=\"M312.1948,-519.6446C316.9643,-514.1937 322.6621,-507.6819 327.4191,-502.2453\"/>\n",
       "</g>\n",
       "<!-- &#45;8691663781203413475 -->\n",
       "<!-- 8879088962175974006&#45;&gt;&#45;8691663781203413475 -->\n",
       "<!-- &#45;4463361562398526644&#45;&gt;7646417947516880137 -->\n",
       "<!-- &#45;9071638442758407613 -->\n",
       "<g id=\"node7\" class=\"node\">\n",
       "<title>&#45;9071638442758407613</title>\n",
       "<path fill=\"none\" stroke=\"#000000\" stroke-width=\".25\" d=\"M215.5684,-462C215.5684,-462 182.9492,-462 182.9492,-462 179.2825,-462 175.6158,-458.3333 175.6158,-454.6667 175.6158,-454.6667 175.6158,-447.3333 175.6158,-447.3333 175.6158,-443.6667 179.2825,-440 182.9492,-440 182.9492,-440 215.5684,-440 215.5684,-440 219.2351,-440 222.9017,-443.6667 222.9017,-447.3333 222.9017,-447.3333 222.9017,-454.6667 222.9017,-454.6667 222.9017,-458.3333 219.2351,-462 215.5684,-462\"/>\n",
       "<text text-anchor=\"middle\" x=\"199.2588\" y=\"-446.8\" font-family=\"Times,serif\" font-size=\"14.00\" fill=\"#000000\">Integer</text>\n",
       "</g>\n",
       "<!-- &#45;4463361562398526644&#45;&gt;&#45;9071638442758407613 -->\n",
       "<g id=\"edge6\" class=\"edge\">\n",
       "<title>&#45;4463361562398526644&#45;&gt;&#45;9071638442758407613</title>\n",
       "<path fill=\"none\" stroke=\"#000000\" stroke-width=\".5\" d=\"M248.317,-479.8578C238.8854,-474.3098 227.5166,-467.6222 218.099,-462.0825\"/>\n",
       "</g>\n",
       "<!-- &#45;2314652012163179822 -->\n",
       "<g id=\"node8\" class=\"node\">\n",
       "<title>&#45;2314652012163179822</title>\n",
       "<path fill=\"none\" stroke=\"#000000\" stroke-width=\".25\" d=\"M288.0818,-462C288.0818,-462 248.4358,-462 248.4358,-462 244.7691,-462 241.1024,-458.3333 241.1024,-454.6667 241.1024,-454.6667 241.1024,-447.3333 241.1024,-447.3333 241.1024,-443.6667 244.7691,-440 248.4358,-440 248.4358,-440 288.0818,-440 288.0818,-440 291.7485,-440 295.4151,-443.6667 295.4151,-447.3333 295.4151,-447.3333 295.4151,-454.6667 295.4151,-454.6667 295.4151,-458.3333 291.7485,-462 288.0818,-462\"/>\n",
       "<text text-anchor=\"middle\" x=\"268.2588\" y=\"-446.8\" font-family=\"Times,serif\" font-size=\"14.00\" fill=\"#000000\">Fraction</text>\n",
       "</g>\n",
       "<!-- &#45;4463361562398526644&#45;&gt;&#45;2314652012163179822 -->\n",
       "<g id=\"edge7\" class=\"edge\">\n",
       "<title>&#45;4463361562398526644&#45;&gt;&#45;2314652012163179822</title>\n",
       "<path fill=\"none\" stroke=\"#000000\" stroke-width=\".5\" d=\"M267.5427,-479.6446C267.6789,-474.1937 267.8417,-467.6819 267.9777,-462.2453\"/>\n",
       "</g>\n",
       "<!-- &#45;5818629306486314173 -->\n",
       "<g id=\"node24\" class=\"node\">\n",
       "<title>&#45;5818629306486314173</title>\n",
       "<path fill=\"none\" stroke=\"#000000\" stroke-width=\".25\" d=\"M346.905,-182C346.905,-182 311.6126,-182 311.6126,-182 307.946,-182 304.2793,-178.3333 304.2793,-174.6667 304.2793,-174.6667 304.2793,-167.3333 304.2793,-167.3333 304.2793,-163.6667 307.946,-160 311.6126,-160 311.6126,-160 346.905,-160 346.905,-160 350.5716,-160 354.2383,-163.6667 354.2383,-167.3333 354.2383,-167.3333 354.2383,-174.6667 354.2383,-174.6667 354.2383,-178.3333 350.5716,-182 346.905,-182\"/>\n",
       "<text text-anchor=\"middle\" x=\"329.2588\" y=\"-166.8\" font-family=\"Times,serif\" font-size=\"14.00\" fill=\"#000000\">Scale’1</text>\n",
       "</g>\n",
       "<!-- 7646417947516880137&#45;&gt;&#45;5818629306486314173 -->\n",
       "<g id=\"edge26\" class=\"edge\">\n",
       "<title>7646417947516880137&#45;&gt;&#45;5818629306486314173</title>\n",
       "<path fill=\"none\" stroke=\"#000000\" stroke-width=\".5\" d=\"M337.2588,-479.87C337.2588,-464.4159 337.2588,-435.5833 337.2588,-411 337.2588,-411 337.2588,-411 337.2588,-251 337.2588,-226.2941 333.4344,-197.5084 331.0741,-182.095\"/>\n",
       "</g>\n",
       "<!-- &#45;9071644748744566777 -->\n",
       "<g id=\"node25\" class=\"node\">\n",
       "<title>&#45;9071644748744566777</title>\n",
       "<path fill=\"none\" stroke=\"#000000\" stroke-width=\".25\" d=\"M412.5684,-182C412.5684,-182 379.9492,-182 379.9492,-182 376.2825,-182 372.6158,-178.3333 372.6158,-174.6667 372.6158,-174.6667 372.6158,-167.3333 372.6158,-167.3333 372.6158,-163.6667 376.2825,-160 379.9492,-160 379.9492,-160 412.5684,-160 412.5684,-160 416.2351,-160 419.9017,-163.6667 419.9017,-167.3333 419.9017,-167.3333 419.9017,-174.6667 419.9017,-174.6667 419.9017,-178.3333 416.2351,-182 412.5684,-182\"/>\n",
       "<text text-anchor=\"middle\" x=\"396.2588\" y=\"-166.8\" font-family=\"Times,serif\" font-size=\"14.00\" fill=\"#000000\">Integer</text>\n",
       "</g>\n",
       "<!-- 7646417947516880137&#45;&gt;&#45;9071644748744566777 -->\n",
       "<g id=\"edge27\" class=\"edge\">\n",
       "<title>7646417947516880137&#45;&gt;&#45;9071644748744566777</title>\n",
       "<path fill=\"none\" stroke=\"#000000\" stroke-width=\".5\" d=\"M348.3824,-479.9184C361.7082,-465.4107 382.2588,-438.5682 382.2588,-411 382.2588,-411 382.2588,-411 382.2588,-251 382.2588,-226.0431 388.9514,-197.3535 393.082,-182.0233\"/>\n",
       "</g>\n",
       "<!-- 7090102128146425839 -->\n",
       "<!-- &#45;8691663781203413475&#45;&gt;7090102128146425839 -->\n",
       "<!-- &#45;9071638442758407613&#45;&gt;&#45;2314652012163179822 -->\n",
       "<!-- &#45;9071637181561408790 -->\n",
       "<g id=\"node10\" class=\"node\">\n",
       "<title>&#45;9071637181561408790</title>\n",
       "<path fill=\"none\" stroke=\"#000000\" stroke-width=\".25\" d=\"M155.5684,-422C155.5684,-422 122.9492,-422 122.9492,-422 119.2825,-422 115.6158,-418.3333 115.6158,-414.6667 115.6158,-414.6667 115.6158,-407.3333 115.6158,-407.3333 115.6158,-403.6667 119.2825,-400 122.9492,-400 122.9492,-400 155.5684,-400 155.5684,-400 159.2351,-400 162.9017,-403.6667 162.9017,-407.3333 162.9017,-407.3333 162.9017,-414.6667 162.9017,-414.6667 162.9017,-418.3333 159.2351,-422 155.5684,-422\"/>\n",
       "<text text-anchor=\"middle\" x=\"139.2588\" y=\"-406.8\" font-family=\"Times,serif\" font-size=\"14.00\" fill=\"#000000\">Integer</text>\n",
       "</g>\n",
       "<!-- &#45;9071638442758407613&#45;&gt;&#45;9071637181561408790 -->\n",
       "<g id=\"edge10\" class=\"edge\">\n",
       "<title>&#45;9071638442758407613&#45;&gt;&#45;9071637181561408790</title>\n",
       "<path fill=\"none\" stroke=\"#000000\" stroke-width=\".5\" d=\"M182.5454,-439.8578C174.2235,-434.3098 164.1921,-427.6222 155.8825,-422.0825\"/>\n",
       "</g>\n",
       "<!-- 2823196603189575262 -->\n",
       "<g id=\"node11\" class=\"node\">\n",
       "<title>2823196603189575262</title>\n",
       "<path fill=\"none\" stroke=\"#000000\" stroke-width=\".25\" d=\"M210.2054,-422C210.2054,-422 188.3122,-422 188.3122,-422 184.6455,-422 180.9788,-418.3333 180.9788,-414.6667 180.9788,-414.6667 180.9788,-407.3333 180.9788,-407.3333 180.9788,-403.6667 184.6455,-400 188.3122,-400 188.3122,-400 210.2054,-400 210.2054,-400 213.8721,-400 217.5387,-403.6667 217.5387,-407.3333 217.5387,-407.3333 217.5387,-414.6667 217.5387,-414.6667 217.5387,-418.3333 213.8721,-422 210.2054,-422\"/>\n",
       "<text text-anchor=\"middle\" x=\"199.2588\" y=\"-406.8\" font-family=\"Times,serif\" font-size=\"14.00\" fill=\"#000000\">Digit</text>\n",
       "</g>\n",
       "<!-- &#45;9071638442758407613&#45;&gt;2823196603189575262 -->\n",
       "<g id=\"edge11\" class=\"edge\">\n",
       "<title>&#45;9071638442758407613&#45;&gt;2823196603189575262</title>\n",
       "<path fill=\"none\" stroke=\"#000000\" stroke-width=\".5\" d=\"M199.2588,-439.6446C199.2588,-434.1937 199.2588,-427.6819 199.2588,-422.2453\"/>\n",
       "</g>\n",
       "<!-- &#45;569292502613581930 -->\n",
       "<g id=\"node17\" class=\"node\">\n",
       "<title>&#45;569292502613581930</title>\n",
       "<path fill=\"none\" stroke=\"#000000\" stroke-width=\".25\" d=\"M235.7967,-302C235.7967,-302 228.7209,-302 228.7209,-302 225.1829,-302 221.645,-298.4621 221.645,-294.9241 221.645,-294.9241 221.645,-287.0759 221.645,-287.0759 221.645,-283.5379 225.1829,-280 228.7209,-280 228.7209,-280 235.7967,-280 235.7967,-280 239.3347,-280 242.8726,-283.5379 242.8726,-287.0759 242.8726,-287.0759 242.8726,-294.9241 242.8726,-294.9241 242.8726,-298.4621 239.3347,-302 235.7967,-302\"/>\n",
       "<text text-anchor=\"middle\" x=\"232.2588\" y=\"-286.8\" font-family=\"Times,serif\" font-size=\"14.00\" fill=\"#000000\">N.</text>\n",
       "</g>\n",
       "<!-- &#45;2314652012163179822&#45;&gt;&#45;569292502613581930 -->\n",
       "<g id=\"edge18\" class=\"edge\">\n",
       "<title>&#45;2314652012163179822&#45;&gt;&#45;569292502613581930</title>\n",
       "<path fill=\"none\" stroke=\"#000000\" stroke-width=\".5\" d=\"M265.7273,-439.7491C259.1014,-410.3006 241.3083,-331.2201 234.7396,-302.026\"/>\n",
       "</g>\n",
       "<!-- &#45;9071633397969247272 -->\n",
       "<g id=\"node18\" class=\"node\">\n",
       "<title>&#45;9071633397969247272</title>\n",
       "<path fill=\"none\" stroke=\"#000000\" stroke-width=\".25\" d=\"M301.5684,-302C301.5684,-302 268.9492,-302 268.9492,-302 265.2825,-302 261.6158,-298.3333 261.6158,-294.6667 261.6158,-294.6667 261.6158,-287.3333 261.6158,-287.3333 261.6158,-283.6667 265.2825,-280 268.9492,-280 268.9492,-280 301.5684,-280 301.5684,-280 305.2351,-280 308.9017,-283.6667 308.9017,-287.3333 308.9017,-287.3333 308.9017,-294.6667 308.9017,-294.6667 308.9017,-298.3333 305.2351,-302 301.5684,-302\"/>\n",
       "<text text-anchor=\"middle\" x=\"285.2588\" y=\"-286.8\" font-family=\"Times,serif\" font-size=\"14.00\" fill=\"#000000\">Integer</text>\n",
       "</g>\n",
       "<!-- &#45;2314652012163179822&#45;&gt;&#45;9071633397969247272 -->\n",
       "<g id=\"edge19\" class=\"edge\">\n",
       "<title>&#45;2314652012163179822&#45;&gt;&#45;9071633397969247272</title>\n",
       "<path fill=\"none\" stroke=\"#000000\" stroke-width=\".5\" d=\"M269.4542,-439.7491C272.5831,-410.3006 280.9854,-331.2201 284.0873,-302.026\"/>\n",
       "</g>\n",
       "<!-- &#45;4243486623779742536 -->\n",
       "<!-- 7090102128146425839&#45;&gt;&#45;4243486623779742536 -->\n",
       "<!-- &#45;9071637181561408790&#45;&gt;2823196603189575262 -->\n",
       "<!-- 2079349972337965709 -->\n",
       "<g id=\"node13\" class=\"node\">\n",
       "<title>2079349972337965709</title>\n",
       "<path fill=\"none\" stroke=\"#000000\" stroke-width=\"1.25\" d=\"M141.7588,-382C141.7588,-382 136.7588,-382 136.7588,-382 134.2588,-382 131.7588,-379.5 131.7588,-377 131.7588,-377 131.7588,-365 131.7588,-365 131.7588,-362.5 134.2588,-360 136.7588,-360 136.7588,-360 141.7588,-360 141.7588,-360 144.2588,-360 146.7588,-362.5 146.7588,-365 146.7588,-365 146.7588,-377 146.7588,-377 146.7588,-379.5 144.2588,-382 141.7588,-382\"/>\n",
       "<text text-anchor=\"middle\" x=\"139.2588\" y=\"-366.8\" font-family=\"Times,serif\" font-size=\"14.00\" fill=\"#000000\">3</text>\n",
       "</g>\n",
       "<!-- &#45;9071637181561408790&#45;&gt;2079349972337965709 -->\n",
       "<g id=\"edge14\" class=\"edge\">\n",
       "<title>&#45;9071637181561408790&#45;&gt;2079349972337965709</title>\n",
       "<path fill=\"none\" stroke=\"#000000\" stroke-width=\".5\" d=\"M139.2588,-399.6446C139.2588,-394.1937 139.2588,-387.6819 139.2588,-382.2453\"/>\n",
       "</g>\n",
       "<!-- 2869056214278998902 -->\n",
       "<g id=\"node15\" class=\"node\">\n",
       "<title>2869056214278998902</title>\n",
       "<path fill=\"none\" stroke=\"#000000\" stroke-width=\"1.25\" d=\"M201.7588,-342C201.7588,-342 196.7588,-342 196.7588,-342 194.2588,-342 191.7588,-339.5 191.7588,-337 191.7588,-337 191.7588,-325 191.7588,-325 191.7588,-322.5 194.2588,-320 196.7588,-320 196.7588,-320 201.7588,-320 201.7588,-320 204.2588,-320 206.7588,-322.5 206.7588,-325 206.7588,-325 206.7588,-337 206.7588,-337 206.7588,-339.5 204.2588,-342 201.7588,-342\"/>\n",
       "<text text-anchor=\"middle\" x=\"199.2588\" y=\"-326.8\" font-family=\"Times,serif\" font-size=\"14.00\" fill=\"#000000\">2</text>\n",
       "</g>\n",
       "<!-- 2823196603189575262&#45;&gt;2869056214278998902 -->\n",
       "<g id=\"edge16\" class=\"edge\">\n",
       "<title>2823196603189575262&#45;&gt;2869056214278998902</title>\n",
       "<path fill=\"none\" stroke=\"#000000\" stroke-width=\".5\" d=\"M199.2588,-399.8763C199.2588,-384.5921 199.2588,-357.2636 199.2588,-342.0292\"/>\n",
       "</g>\n",
       "<!-- &#45;3499731554195268149 -->\n",
       "<!-- &#45;4243486623779742536&#45;&gt;&#45;3499731554195268149 -->\n",
       "<!-- 102959433710723570 -->\n",
       "<!-- &#45;3499731554195268149&#45;&gt;102959433710723570 -->\n",
       "<!-- 947007277851300598 -->\n",
       "<!-- 102959433710723570&#45;&gt;947007277851300598 -->\n",
       "<!-- &#45;569292502613581930&#45;&gt;&#45;9071633397969247272 -->\n",
       "<!-- 8195593066392671604 -->\n",
       "<g id=\"node20\" class=\"node\">\n",
       "<title>8195593066392671604</title>\n",
       "<path fill=\"none\" stroke=\"#000000\" stroke-width=\"1.25\" d=\"M234.0956,-262C234.0956,-262 230.422,-262 230.422,-262 228.5852,-262 226.7484,-260.1632 226.7484,-258.3264 226.7484,-258.3264 226.7484,-243.6736 226.7484,-243.6736 226.7484,-241.8368 228.5852,-240 230.422,-240 230.422,-240 234.0956,-240 234.0956,-240 235.9324,-240 237.7692,-241.8368 237.7692,-243.6736 237.7692,-243.6736 237.7692,-258.3264 237.7692,-258.3264 237.7692,-260.1632 235.9324,-262 234.0956,-262\"/>\n",
       "<text text-anchor=\"middle\" x=\"232.2588\" y=\"-246.8\" font-family=\"Times,serif\" font-size=\"14.00\" fill=\"#000000\">.</text>\n",
       "</g>\n",
       "<!-- &#45;569292502613581930&#45;&gt;8195593066392671604 -->\n",
       "<g id=\"edge22\" class=\"edge\">\n",
       "<title>&#45;569292502613581930&#45;&gt;8195593066392671604</title>\n",
       "<path fill=\"none\" stroke=\"#000000\" stroke-width=\".5\" d=\"M232.2588,-279.6446C232.2588,-274.1937 232.2588,-267.6819 232.2588,-262.2453\"/>\n",
       "</g>\n",
       "<!-- &#45;7072629223266315855 -->\n",
       "<g id=\"node22\" class=\"node\">\n",
       "<title>&#45;7072629223266315855</title>\n",
       "<path fill=\"none\" stroke=\"#000000\" stroke-width=\"1.25\" d=\"M287.7588,-222C287.7588,-222 282.7588,-222 282.7588,-222 280.2588,-222 277.7588,-219.5 277.7588,-217 277.7588,-217 277.7588,-205 277.7588,-205 277.7588,-202.5 280.2588,-200 282.7588,-200 282.7588,-200 287.7588,-200 287.7588,-200 290.2588,-200 292.7588,-202.5 292.7588,-205 292.7588,-205 292.7588,-217 292.7588,-217 292.7588,-219.5 290.2588,-222 287.7588,-222\"/>\n",
       "<text text-anchor=\"middle\" x=\"285.2588\" y=\"-206.8\" font-family=\"Times,serif\" font-size=\"14.00\" fill=\"#000000\">5</text>\n",
       "</g>\n",
       "<!-- &#45;9071633397969247272&#45;&gt;&#45;7072629223266315855 -->\n",
       "<g id=\"edge24\" class=\"edge\">\n",
       "<title>&#45;9071633397969247272&#45;&gt;&#45;7072629223266315855</title>\n",
       "<path fill=\"none\" stroke=\"#000000\" stroke-width=\".5\" d=\"M285.2588,-279.8763C285.2588,-264.5921 285.2588,-237.2636 285.2588,-222.0292\"/>\n",
       "</g>\n",
       "<!-- &#45;7672616972505988712 -->\n",
       "<!-- 947007277851300598&#45;&gt;&#45;7672616972505988712 -->\n",
       "<!-- 8882460192351860013 -->\n",
       "<!-- &#45;7672616972505988712&#45;&gt;8882460192351860013 -->\n",
       "<!-- 3495765532426569773 -->\n",
       "<!-- 8882460192351860013&#45;&gt;3495765532426569773 -->\n",
       "<!-- &#45;5818629306486314173&#45;&gt;&#45;9071644748744566777 -->\n",
       "<!-- &#45;5086194341011771621 -->\n",
       "<g id=\"node27\" class=\"node\">\n",
       "<title>&#45;5086194341011771621</title>\n",
       "<path fill=\"none\" stroke=\"#000000\" stroke-width=\".25\" d=\"M298.2519,-142C298.2519,-142 288.2657,-142 288.2657,-142 284.599,-142 280.9324,-138.3333 280.9324,-134.6667 280.9324,-134.6667 280.9324,-127.3333 280.9324,-127.3333 280.9324,-123.6667 284.599,-120 288.2657,-120 288.2657,-120 298.2519,-120 298.2519,-120 301.9185,-120 305.5852,-123.6667 305.5852,-127.3333 305.5852,-127.3333 305.5852,-134.6667 305.5852,-134.6667 305.5852,-138.3333 301.9185,-142 298.2519,-142\"/>\n",
       "<text text-anchor=\"middle\" x=\"293.2588\" y=\"-126.8\" font-family=\"Times,serif\" font-size=\"14.00\" fill=\"#000000\">Ne</text>\n",
       "</g>\n",
       "<!-- &#45;5818629306486314173&#45;&gt;&#45;5086194341011771621 -->\n",
       "<g id=\"edge30\" class=\"edge\">\n",
       "<title>&#45;5818629306486314173&#45;&gt;&#45;5086194341011771621</title>\n",
       "<path fill=\"none\" stroke=\"#000000\" stroke-width=\".5\" d=\"M319.0389,-159.6446C314.1331,-154.1937 308.2725,-147.6819 303.3796,-142.2453\"/>\n",
       "</g>\n",
       "<!-- &#45;7231811940127964625 -->\n",
       "<g id=\"node28\" class=\"node\">\n",
       "<title>&#45;7231811940127964625</title>\n",
       "<path fill=\"none\" stroke=\"#000000\" stroke-width=\".25\" d=\"M349.6028,-142C349.6028,-142 330.9148,-142 330.9148,-142 327.2481,-142 323.5815,-138.3333 323.5815,-134.6667 323.5815,-134.6667 323.5815,-127.3333 323.5815,-127.3333 323.5815,-123.6667 327.2481,-120 330.9148,-120 330.9148,-120 349.6028,-120 349.6028,-120 353.2694,-120 356.9361,-123.6667 356.9361,-127.3333 356.9361,-127.3333 356.9361,-134.6667 356.9361,-134.6667 356.9361,-138.3333 353.2694,-142 349.6028,-142\"/>\n",
       "<text text-anchor=\"middle\" x=\"340.2588\" y=\"-126.8\" font-family=\"Times,serif\" font-size=\"14.00\" fill=\"#000000\">Sign</text>\n",
       "</g>\n",
       "<!-- &#45;5818629306486314173&#45;&gt;&#45;7231811940127964625 -->\n",
       "<g id=\"edge31\" class=\"edge\">\n",
       "<title>&#45;5818629306486314173&#45;&gt;&#45;7231811940127964625</title>\n",
       "<path fill=\"none\" stroke=\"#000000\" stroke-width=\".5\" d=\"M332.3815,-159.6446C333.8805,-154.1937 335.6713,-147.6819 337.1663,-142.2453\"/>\n",
       "</g>\n",
       "<!-- 1522594430445070742 -->\n",
       "<g id=\"node34\" class=\"node\">\n",
       "<title>1522594430445070742</title>\n",
       "<path fill=\"none\" stroke=\"#000000\" stroke-width=\"1.25\" d=\"M398.7588,-22C398.7588,-22 393.7588,-22 393.7588,-22 391.2588,-22 388.7588,-19.5 388.7588,-17 388.7588,-17 388.7588,-5 388.7588,-5 388.7588,-2.5 391.2588,0 393.7588,0 393.7588,0 398.7588,0 398.7588,0 401.2588,0 403.7588,-2.5 403.7588,-5 403.7588,-5 403.7588,-17 403.7588,-17 403.7588,-19.5 401.2588,-22 398.7588,-22\"/>\n",
       "<text text-anchor=\"middle\" x=\"396.2588\" y=\"-6.8\" font-family=\"Times,serif\" font-size=\"14.00\" fill=\"#000000\">1</text>\n",
       "</g>\n",
       "<!-- &#45;9071644748744566777&#45;&gt;1522594430445070742 -->\n",
       "<g id=\"edge38\" class=\"edge\">\n",
       "<title>&#45;9071644748744566777&#45;&gt;1522594430445070742</title>\n",
       "<path fill=\"none\" stroke=\"#000000\" stroke-width=\".5\" d=\"M396.2588,-159.7491C396.2588,-130.3006 396.2588,-51.2201 396.2588,-22.026\"/>\n",
       "</g>\n",
       "<!-- &#45;8935522229133805303 -->\n",
       "<!-- 3495765532426569773&#45;&gt;&#45;8935522229133805303 -->\n",
       "<!-- &#45;5086194341011771621&#45;&gt;&#45;7231811940127964625 -->\n",
       "<!-- &#45;3998477511284043013 -->\n",
       "<g id=\"node30\" class=\"node\">\n",
       "<title>&#45;3998477511284043013</title>\n",
       "<path fill=\"none\" stroke=\"#000000\" stroke-width=\"1.25\" d=\"M295.664,-102C295.664,-102 290.8536,-102 290.8536,-102 288.4485,-102 286.0433,-99.5948 286.0433,-97.1897 286.0433,-97.1897 286.0433,-84.8103 286.0433,-84.8103 286.0433,-82.4052 288.4485,-80 290.8536,-80 290.8536,-80 295.664,-80 295.664,-80 298.0691,-80 300.4743,-82.4052 300.4743,-84.8103 300.4743,-84.8103 300.4743,-97.1897 300.4743,-97.1897 300.4743,-99.5948 298.0691,-102 295.664,-102\"/>\n",
       "<text text-anchor=\"middle\" x=\"293.2588\" y=\"-86.8\" font-family=\"Times,serif\" font-size=\"14.00\" fill=\"#000000\">e</text>\n",
       "</g>\n",
       "<!-- &#45;5086194341011771621&#45;&gt;&#45;3998477511284043013 -->\n",
       "<g id=\"edge34\" class=\"edge\">\n",
       "<title>&#45;5086194341011771621&#45;&gt;&#45;3998477511284043013</title>\n",
       "<path fill=\"none\" stroke=\"#000000\" stroke-width=\".5\" d=\"M293.2588,-119.6446C293.2588,-114.1937 293.2588,-107.6819 293.2588,-102.2453\"/>\n",
       "</g>\n",
       "<!-- 8363097979368160577 -->\n",
       "<g id=\"node32\" class=\"node\">\n",
       "<title>8363097979368160577</title>\n",
       "<path fill=\"none\" stroke=\"#000000\" stroke-width=\"1.25\" d=\"M342.8907,-62C342.8907,-62 337.6268,-62 337.6268,-62 334.9949,-62 332.3629,-59.3681 332.3629,-56.7361 332.3629,-56.7361 332.3629,-45.2639 332.3629,-45.2639 332.3629,-42.6319 334.9949,-40 337.6268,-40 337.6268,-40 342.8907,-40 342.8907,-40 345.5227,-40 348.1546,-42.6319 348.1546,-45.2639 348.1546,-45.2639 348.1546,-56.7361 348.1546,-56.7361 348.1546,-59.3681 345.5227,-62 342.8907,-62\"/>\n",
       "<text text-anchor=\"middle\" x=\"340.2588\" y=\"-46.8\" font-family=\"Times,serif\" font-size=\"14.00\" fill=\"#000000\">+</text>\n",
       "</g>\n",
       "<!-- &#45;7231811940127964625&#45;&gt;8363097979368160577 -->\n",
       "<g id=\"edge36\" class=\"edge\">\n",
       "<title>&#45;7231811940127964625&#45;&gt;8363097979368160577</title>\n",
       "<path fill=\"none\" stroke=\"#000000\" stroke-width=\".5\" d=\"M340.2588,-119.8763C340.2588,-104.5921 340.2588,-77.2636 340.2588,-62.0292\"/>\n",
       "</g>\n",
       "<!-- 6366172296675923806 -->\n",
       "<!-- &#45;8935522229133805303&#45;&gt;6366172296675923806 -->\n",
       "<!-- &#45;3614741763018274510 -->\n",
       "<!-- 6366172296675923806&#45;&gt;&#45;3614741763018274510 -->\n",
       "</g>\n",
       "</svg>\n"
      ],
      "text/plain": [
       "ProductionGraph(Number -> Number1 Scale’ -> Integer Fraction Scale’ -> Integer Digit Fraction Scale’ -> 3 Digit Fraction Scale’ -> 3 2 Fraction Scale’ -> 3 2 N. Integer Scale’ -> 3 2 . Integer Scale’ -> 3 2 . 5 Scale’ -> 3 2 . 5 Scale’1 Integer -> 3 2 . 5 Ne Sign Integer -> 3 2 . 5 e Sign Integer -> 3 2 . 5 e + Integer -> 3 2 . 5 e + 1)"
      ]
     },
     "execution_count": 101,
     "metadata": {},
     "output_type": "execute_result"
    }
   ],
   "source": [
    "from liblet import Derivation, ProductionGraph\n",
    "\n",
    "d = Derivation(G)\n",
    "for step in prods: d = d.leftmost(step)\n",
    "ProductionGraph(d)"
   ]
  }
 ],
 "metadata": {
  "kernelspec": {
   "display_name": "Python 3",
   "language": "python",
   "name": "python3"
  },
  "language_info": {
   "codemirror_mode": {
    "name": "ipython",
    "version": 3
   },
   "file_extension": ".py",
   "mimetype": "text/x-python",
   "name": "python",
   "nbconvert_exporter": "python",
   "pygments_lexer": "ipython3",
   "version": "3.7.2"
  }
 },
 "nbformat": 4,
 "nbformat_minor": 2
}
