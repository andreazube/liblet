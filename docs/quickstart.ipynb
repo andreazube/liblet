{
 "cells": [
  {
   "cell_type": "raw",
   "metadata": {},
   "source": [
    ".. _quickstart:"
   ]
  },
  {
   "cell_type": "markdown",
   "metadata": {},
   "source": [
    "# Quickstart\n",
    "\n",
    "This quickstart is a [Jupyter](https://jupyter.org/) session showing some simple LibLET objects usage.\n",
    "\n",
    "## Type 1 grammars and production graphs\n",
    "\n",
    "Let's start defining a *monotonic* grammar for $a^nb^nc^n$"
   ]
  },
  {
   "cell_type": "code",
   "execution_count": 1,
   "metadata": {},
   "outputs": [
    {
     "data": {
      "text/plain": [
       "Grammar(N={Q, S}, T={a, b, c}, P=(S -> a b c, S -> a S Q, b Q c -> b b c c, c Q -> Q c), S=S)"
      ]
     },
     "execution_count": 1,
     "metadata": {},
     "output_type": "execute_result"
    }
   ],
   "source": [
    "from liblet import Grammar\n",
    "\n",
    "G = Grammar.from_string(\"\"\"\n",
    "S -> a b c\n",
    "S -> a S Q\n",
    "b Q c -> b b c c\n",
    "c Q -> Q c\n",
    "\"\"\", False)\n",
    "\n",
    "G"
   ]
  },
  {
   "cell_type": "markdown",
   "metadata": {},
   "source": [
    "It can be convenient to show the productions as a table, with numbered rows."
   ]
  },
  {
   "cell_type": "code",
   "execution_count": 2,
   "metadata": {},
   "outputs": [
    {
     "data": {
      "text/html": [
       "<table><tr><th>0<td style=\"text-align:left\"><pre>S -> a b c</pre>\n",
       "<tr><th>1<td style=\"text-align:left\"><pre>S -> a S Q</pre>\n",
       "<tr><th>2<td style=\"text-align:left\"><pre>b Q c -> b b c c</pre>\n",
       "<tr><th>3<td style=\"text-align:left\"><pre>c Q -> Q c</pre></table>"
      ],
      "text/plain": [
       "<IPython.core.display.HTML object>"
      ]
     },
     "execution_count": 2,
     "metadata": {},
     "output_type": "execute_result"
    }
   ],
   "source": [
    "from liblet import iter2table\n",
    "\n",
    "iter2table(G.P)"
   ]
  },
  {
   "cell_type": "markdown",
   "metadata": {},
   "source": [
    "It's now time to create a *derivation* of $a^2b^2c^2$"
   ]
  },
  {
   "cell_type": "code",
   "execution_count": 3,
   "metadata": {},
   "outputs": [
    {
     "data": {
      "text/plain": [
       "S -> a S Q -> a a b c Q -> a a b Q c -> a a b b c c"
      ]
     },
     "execution_count": 3,
     "metadata": {},
     "output_type": "execute_result"
    }
   ],
   "source": [
    "from liblet import Derivation\n",
    "\n",
    "d = Derivation(G).step(1, 0).step(0, 1).step(3, 3).step(2, 2)\n",
    "d"
   ]
  },
  {
   "cell_type": "markdown",
   "metadata": {},
   "source": [
    "It can be quite illuminating to see the *production graph* for such derivation"
   ]
  },
  {
   "cell_type": "code",
   "execution_count": 4,
   "metadata": {},
   "outputs": [
    {
     "data": {
      "image/png": "[encoded data removed]",
      "image/svg+xml": [
       "<?xml version=\"1.0\" encoding=\"UTF-8\" standalone=\"no\"?>\n",
       "<!DOCTYPE svg PUBLIC \"-//W3C//DTD SVG 1.1//EN\"\n",
       " \"http://www.w3.org/Graphics/SVG/1.1/DTD/svg11.dtd\">\n",
       "<!-- Generated by graphviz version 2.40.1 (20161225.0304)\n",
       " -->\n",
       "<!-- Title: %3 Pages: 1 -->\n",
       "<svg width=\"253pt\" height=\"236pt\"\n",
       " viewBox=\"0.00 0.00 252.87 236.08\" xmlns=\"http://www.w3.org/2000/svg\" xmlns:xlink=\"http://www.w3.org/1999/xlink\">\n",
       "<g id=\"graph0\" class=\"graph\" transform=\"scale(1 1) rotate(0) translate(4 232.08)\">\n",
       "<title>%3</title>\n",
       "<polygon fill=\"#ffffff\" stroke=\"transparent\" points=\"-4,4 -4,-232.08 248.8657,-232.08 248.8657,4 -4,4\"/>\n",
       "<!-- 2851357810715378549 -->\n",
       "<!-- 6761465718764935585 -->\n",
       "<!-- 2851357810715378549&#45;&gt;6761465718764935585 -->\n",
       "<!-- 6860799673492197886 -->\n",
       "<g id=\"node2\" class=\"node\">\n",
       "<title>6860799673492197886</title>\n",
       "<path fill=\"none\" stroke=\"#000000\" stroke-width=\".25\" d=\"M170.3546,-228.08C170.3546,-228.08 165.1629,-228.08 165.1629,-228.08 162.5671,-228.08 159.9712,-225.4841 159.9712,-222.8883 159.9712,-222.8883 159.9712,-211.2717 159.9712,-211.2717 159.9712,-208.6759 162.5671,-206.08 165.1629,-206.08 165.1629,-206.08 170.3546,-206.08 170.3546,-206.08 172.9505,-206.08 175.5464,-208.6759 175.5464,-211.2717 175.5464,-211.2717 175.5464,-222.8883 175.5464,-222.8883 175.5464,-225.4841 172.9505,-228.08 170.3546,-228.08\"/>\n",
       "<text text-anchor=\"middle\" x=\"167.7588\" y=\"-212.88\" font-family=\"Times,serif\" font-size=\"14.00\" fill=\"#000000\">S</text>\n",
       "</g>\n",
       "<!-- 1377444452744120643 -->\n",
       "<g id=\"node4\" class=\"node\">\n",
       "<title>1377444452744120643</title>\n",
       "<path fill=\"none\" stroke=\"#000000\" stroke-width=\"1.25\" d=\"M137.164,-188.08C137.164,-188.08 132.3536,-188.08 132.3536,-188.08 129.9485,-188.08 127.5433,-185.6748 127.5433,-183.2697 127.5433,-183.2697 127.5433,-170.8903 127.5433,-170.8903 127.5433,-168.4852 129.9485,-166.08 132.3536,-166.08 132.3536,-166.08 137.164,-166.08 137.164,-166.08 139.5691,-166.08 141.9743,-168.4852 141.9743,-170.8903 141.9743,-170.8903 141.9743,-183.2697 141.9743,-183.2697 141.9743,-185.6748 139.5691,-188.08 137.164,-188.08\"/>\n",
       "<text text-anchor=\"middle\" x=\"134.7588\" y=\"-172.88\" font-family=\"Times,serif\" font-size=\"14.00\" fill=\"#000000\">a</text>\n",
       "</g>\n",
       "<!-- 6860799673492197886&#45;&gt;1377444452744120643 -->\n",
       "<g id=\"edge2\" class=\"edge\">\n",
       "<title>6860799673492197886&#45;&gt;1377444452744120643</title>\n",
       "<path fill=\"none\" stroke=\"#000000\" stroke-width=\".5\" d=\"M159.7704,-207.3971C154.3531,-200.8307 147.2501,-192.221 141.9982,-185.8551\"/>\n",
       "</g>\n",
       "<!-- 6860798412296364112 -->\n",
       "<g id=\"node5\" class=\"node\">\n",
       "<title>6860798412296364112</title>\n",
       "<path fill=\"none\" stroke=\"#000000\" stroke-width=\".25\" d=\"M170.3546,-188.08C170.3546,-188.08 165.1629,-188.08 165.1629,-188.08 162.5671,-188.08 159.9712,-185.4841 159.9712,-182.8883 159.9712,-182.8883 159.9712,-171.2717 159.9712,-171.2717 159.9712,-168.6759 162.5671,-166.08 165.1629,-166.08 165.1629,-166.08 170.3546,-166.08 170.3546,-166.08 172.9505,-166.08 175.5464,-168.6759 175.5464,-171.2717 175.5464,-171.2717 175.5464,-182.8883 175.5464,-182.8883 175.5464,-185.4841 172.9505,-188.08 170.3546,-188.08\"/>\n",
       "<text text-anchor=\"middle\" x=\"167.7588\" y=\"-172.88\" font-family=\"Times,serif\" font-size=\"14.00\" fill=\"#000000\">S</text>\n",
       "</g>\n",
       "<!-- 6860799673492197886&#45;&gt;6860798412296364112 -->\n",
       "<g id=\"edge3\" class=\"edge\">\n",
       "<title>6860799673492197886&#45;&gt;6860798412296364112</title>\n",
       "<path fill=\"none\" stroke=\"#000000\" stroke-width=\".5\" d=\"M167.7588,-205.7246C167.7588,-200.2737 167.7588,-193.7619 167.7588,-188.3253\"/>\n",
       "</g>\n",
       "<!-- &#45;2016441700349804772 -->\n",
       "<g id=\"node6\" class=\"node\">\n",
       "<title>&#45;2016441700349804772</title>\n",
       "<path fill=\"none\" stroke=\"#000000\" stroke-width=\".25\" d=\"M205.7957,-188.08C205.7957,-188.08 199.7219,-188.08 199.7219,-188.08 196.685,-188.08 193.6481,-185.0431 193.6481,-182.0062 193.6481,-182.0062 193.6481,-172.1538 193.6481,-172.1538 193.6481,-169.1169 196.685,-166.08 199.7219,-166.08 199.7219,-166.08 205.7957,-166.08 205.7957,-166.08 208.8326,-166.08 211.8695,-169.1169 211.8695,-172.1538 211.8695,-172.1538 211.8695,-182.0062 211.8695,-182.0062 211.8695,-185.0431 208.8326,-188.08 205.7957,-188.08\"/>\n",
       "<text text-anchor=\"middle\" x=\"202.7588\" y=\"-172.88\" font-family=\"Times,serif\" font-size=\"14.00\" fill=\"#000000\">Q</text>\n",
       "</g>\n",
       "<!-- 6860799673492197886&#45;&gt;&#45;2016441700349804772 -->\n",
       "<g id=\"edge4\" class=\"edge\">\n",
       "<title>6860799673492197886&#45;&gt;&#45;2016441700349804772</title>\n",
       "<path fill=\"none\" stroke=\"#000000\" stroke-width=\".5\" d=\"M175.8765,-207.8027C181.2077,-201.7098 188.1883,-193.732 193.6999,-187.433\"/>\n",
       "</g>\n",
       "<!-- 5227848549782196201 -->\n",
       "<!-- 6761465718764935585&#45;&gt;5227848549782196201 -->\n",
       "<!-- 1377444452744120643&#45;&gt;6860798412296364112 -->\n",
       "<!-- 6860798412296364112&#45;&gt;&#45;2016441700349804772 -->\n",
       "<!-- 1377448236335117112 -->\n",
       "<g id=\"node8\" class=\"node\">\n",
       "<title>1377448236335117112</title>\n",
       "<path fill=\"none\" stroke=\"#000000\" stroke-width=\"1.25\" d=\"M121.164,-148.08C121.164,-148.08 116.3536,-148.08 116.3536,-148.08 113.9485,-148.08 111.5433,-145.6748 111.5433,-143.2697 111.5433,-143.2697 111.5433,-130.8903 111.5433,-130.8903 111.5433,-128.4852 113.9485,-126.08 116.3536,-126.08 116.3536,-126.08 121.164,-126.08 121.164,-126.08 123.5691,-126.08 125.9743,-128.4852 125.9743,-130.8903 125.9743,-130.8903 125.9743,-143.2697 125.9743,-143.2697 125.9743,-145.6748 123.5691,-148.08 121.164,-148.08\"/>\n",
       "<text text-anchor=\"middle\" x=\"118.7588\" y=\"-132.88\" font-family=\"Times,serif\" font-size=\"14.00\" fill=\"#000000\">a</text>\n",
       "</g>\n",
       "<!-- 6860798412296364112&#45;&gt;1377448236335117112 -->\n",
       "<g id=\"edge8\" class=\"edge\">\n",
       "<title>6860798412296364112&#45;&gt;1377448236335117112</title>\n",
       "<path fill=\"none\" stroke=\"#000000\" stroke-width=\".5\" d=\"M159.6674,-170.4748C150.3167,-162.8416 135.0642,-150.3905 126.0615,-143.0414\"/>\n",
       "</g>\n",
       "<!-- 1693988819751275117 -->\n",
       "<g id=\"node9\" class=\"node\">\n",
       "<title>1693988819751275117</title>\n",
       "<path fill=\"none\" stroke=\"#000000\" stroke-width=\".25\" d=\"M154.2588,-148.08C154.2588,-148.08 149.2588,-148.08 149.2588,-148.08 146.7588,-148.08 144.2588,-145.58 144.2588,-143.08 144.2588,-143.08 144.2588,-131.08 144.2588,-131.08 144.2588,-128.58 146.7588,-126.08 149.2588,-126.08 149.2588,-126.08 154.2588,-126.08 154.2588,-126.08 156.7588,-126.08 159.2588,-128.58 159.2588,-131.08 159.2588,-131.08 159.2588,-143.08 159.2588,-143.08 159.2588,-145.58 156.7588,-148.08 154.2588,-148.08\"/>\n",
       "<text text-anchor=\"middle\" x=\"151.7588\" y=\"-132.88\" font-family=\"Times,serif\" font-size=\"14.00\" fill=\"#000000\">b</text>\n",
       "</g>\n",
       "<!-- 6860798412296364112&#45;&gt;1693988819751275117 -->\n",
       "<g id=\"edge9\" class=\"edge\">\n",
       "<title>6860798412296364112&#45;&gt;1693988819751275117</title>\n",
       "<path fill=\"none\" stroke=\"#000000\" stroke-width=\".5\" d=\"M163.2166,-165.7246C161.0363,-160.2737 158.4315,-153.7619 156.2569,-148.3253\"/>\n",
       "</g>\n",
       "<!-- &#45;8054053867725312480 -->\n",
       "<g id=\"node10\" class=\"node\">\n",
       "<title>&#45;8054053867725312480</title>\n",
       "<path fill=\"none\" stroke=\"#000000\" stroke-width=\".25\" d=\"M187.164,-148.08C187.164,-148.08 182.3536,-148.08 182.3536,-148.08 179.9485,-148.08 177.5433,-145.6748 177.5433,-143.2697 177.5433,-143.2697 177.5433,-130.8903 177.5433,-130.8903 177.5433,-128.4852 179.9485,-126.08 182.3536,-126.08 182.3536,-126.08 187.164,-126.08 187.164,-126.08 189.5691,-126.08 191.9743,-128.4852 191.9743,-130.8903 191.9743,-130.8903 191.9743,-143.2697 191.9743,-143.2697 191.9743,-145.6748 189.5691,-148.08 187.164,-148.08\"/>\n",
       "<text text-anchor=\"middle\" x=\"184.7588\" y=\"-132.88\" font-family=\"Times,serif\" font-size=\"14.00\" fill=\"#000000\">c</text>\n",
       "</g>\n",
       "<!-- 6860798412296364112&#45;&gt;&#45;8054053867725312480 -->\n",
       "<g id=\"edge10\" class=\"edge\">\n",
       "<title>6860798412296364112&#45;&gt;&#45;8054053867725312480</title>\n",
       "<path fill=\"none\" stroke=\"#000000\" stroke-width=\".5\" d=\"M172.5848,-165.7246C174.9015,-160.2737 177.669,-153.7619 179.9795,-148.3253\"/>\n",
       "</g>\n",
       "<!-- &#45;2117690171718114429 -->\n",
       "<g id=\"node14\" class=\"node\">\n",
       "<title>&#45;2117690171718114429</title>\n",
       "<ellipse fill=\"#000000\" stroke=\"#000000\" cx=\"203.7588\" cy=\"-105.56\" rx=\"2.52\" ry=\"2.52\"/>\n",
       "</g>\n",
       "<!-- &#45;2016441700349804772&#45;&gt;&#45;2117690171718114429 -->\n",
       "<g id=\"edge15\" class=\"edge\">\n",
       "<title>&#45;2016441700349804772&#45;&gt;&#45;2117690171718114429</title>\n",
       "<path fill=\"none\" stroke=\"#000000\" stroke-width=\".5\" d=\"M202.915,-165.905C203.1523,-148.933 203.5899,-117.6408 203.7208,-108.2763\"/>\n",
       "</g>\n",
       "<!-- &#45;5532960968932045710 -->\n",
       "<!-- 5227848549782196201&#45;&gt;&#45;5532960968932045710 -->\n",
       "<!-- 1377448236335117112&#45;&gt;1693988819751275117 -->\n",
       "<!-- 1693988819751275117&#45;&gt;&#45;8054053867725312480 -->\n",
       "<!-- 2261406823152503810 -->\n",
       "<g id=\"node20\" class=\"node\">\n",
       "<title>2261406823152503810</title>\n",
       "<ellipse fill=\"#000000\" stroke=\"#000000\" cx=\"188.7588\" cy=\"-42.52\" rx=\"2.52\" ry=\"2.52\"/>\n",
       "</g>\n",
       "<!-- 1693988819751275117&#45;&gt;2261406823152503810 -->\n",
       "<g id=\"edge20\" class=\"edge\">\n",
       "<title>1693988819751275117&#45;&gt;2261406823152503810</title>\n",
       "<path fill=\"none\" stroke=\"#000000\" stroke-width=\".5\" d=\"M152.9716,-125.9592C154.9645,-110.9454 159.8568,-83.6959 170.7588,-63.04 175.0058,-54.9933 183.0073,-47.4742 186.7426,-44.2175\"/>\n",
       "</g>\n",
       "<!-- &#45;8054053867725312480&#45;&gt;&#45;2117690171718114429 -->\n",
       "<g id=\"edge14\" class=\"edge\">\n",
       "<title>&#45;8054053867725312480&#45;&gt;&#45;2117690171718114429</title>\n",
       "<path fill=\"none\" stroke=\"#000000\" stroke-width=\".5\" d=\"M191.4041,-126.0558C195.3421,-119.5228 200.0017,-111.7928 202.3112,-107.9615\"/>\n",
       "</g>\n",
       "<!-- 625776116177663425 -->\n",
       "<!-- &#45;5532960968932045710&#45;&gt;625776116177663425 -->\n",
       "<!-- &#45;2016439177953477028 -->\n",
       "<g id=\"node12\" class=\"node\">\n",
       "<title>&#45;2016439177953477028</title>\n",
       "<path fill=\"none\" stroke=\"#000000\" stroke-width=\".25\" d=\"M191.7957,-85.04C191.7957,-85.04 185.7219,-85.04 185.7219,-85.04 182.685,-85.04 179.6481,-82.0031 179.6481,-78.9662 179.6481,-78.9662 179.6481,-69.1138 179.6481,-69.1138 179.6481,-66.0769 182.685,-63.04 185.7219,-63.04 185.7219,-63.04 191.7957,-63.04 191.7957,-63.04 194.8326,-63.04 197.8695,-66.0769 197.8695,-69.1138 197.8695,-69.1138 197.8695,-78.9662 197.8695,-78.9662 197.8695,-82.0031 194.8326,-85.04 191.7957,-85.04\"/>\n",
       "<text text-anchor=\"middle\" x=\"188.7588\" y=\"-69.84\" font-family=\"Times,serif\" font-size=\"14.00\" fill=\"#000000\">Q</text>\n",
       "</g>\n",
       "<!-- &#45;8054055128918816156 -->\n",
       "<g id=\"node13\" class=\"node\">\n",
       "<title>&#45;8054055128918816156</title>\n",
       "<path fill=\"none\" stroke=\"#000000\" stroke-width=\".25\" d=\"M225.164,-85.04C225.164,-85.04 220.3536,-85.04 220.3536,-85.04 217.9485,-85.04 215.5433,-82.6348 215.5433,-80.2297 215.5433,-80.2297 215.5433,-67.8503 215.5433,-67.8503 215.5433,-65.4452 217.9485,-63.04 220.3536,-63.04 220.3536,-63.04 225.164,-63.04 225.164,-63.04 227.5691,-63.04 229.9743,-65.4452 229.9743,-67.8503 229.9743,-67.8503 229.9743,-80.2297 229.9743,-80.2297 229.9743,-82.6348 227.5691,-85.04 225.164,-85.04\"/>\n",
       "<text text-anchor=\"middle\" x=\"222.7588\" y=\"-69.84\" font-family=\"Times,serif\" font-size=\"14.00\" fill=\"#000000\">c</text>\n",
       "</g>\n",
       "<!-- &#45;2016439177953477028&#45;&gt;&#45;8054055128918816156 -->\n",
       "<!-- &#45;2016439177953477028&#45;&gt;2261406823152503810 -->\n",
       "<g id=\"edge21\" class=\"edge\">\n",
       "<title>&#45;2016439177953477028&#45;&gt;2261406823152503810</title>\n",
       "<path fill=\"none\" stroke=\"#000000\" stroke-width=\".5\" d=\"M188.7588,-63.0158C188.7588,-56.6248 188.7588,-49.0883 188.7588,-45.1768\"/>\n",
       "</g>\n",
       "<!-- &#45;8054055128918816156&#45;&gt;2261406823152503810 -->\n",
       "<g id=\"edge22\" class=\"edge\">\n",
       "<title>&#45;8054055128918816156&#45;&gt;2261406823152503810</title>\n",
       "<path fill=\"none\" stroke=\"#000000\" stroke-width=\".5\" d=\"M215.5483,-67.3554C207.5951,-59.9824 195.3057,-48.5894 190.6413,-44.2652\"/>\n",
       "</g>\n",
       "<!-- &#45;2117690171718114429&#45;&gt;&#45;2016439177953477028 -->\n",
       "<g id=\"edge16\" class=\"edge\">\n",
       "<title>&#45;2117690171718114429&#45;&gt;&#45;2016439177953477028</title>\n",
       "<path fill=\"none\" stroke=\"#000000\" stroke-width=\".5\" d=\"M202.5818,-103.0867C200.7585,-99.2553 197.1403,-91.6524 194.0631,-85.186\"/>\n",
       "</g>\n",
       "<!-- &#45;2117690171718114429&#45;&gt;&#45;8054055128918816156 -->\n",
       "<g id=\"edge17\" class=\"edge\">\n",
       "<title>&#45;2117690171718114429&#45;&gt;&#45;8054055128918816156</title>\n",
       "<path fill=\"none\" stroke=\"#000000\" stroke-width=\".5\" d=\"M205.2497,-103.0867C207.5592,-99.2553 212.1422,-91.6524 216.04,-85.186\"/>\n",
       "</g>\n",
       "<!-- 1693986297358442520 -->\n",
       "<g id=\"node16\" class=\"node\">\n",
       "<title>1693986297358442520</title>\n",
       "<path fill=\"none\" stroke=\"#000000\" stroke-width=\"1.25\" d=\"M142.2588,-22C142.2588,-22 137.2588,-22 137.2588,-22 134.7588,-22 132.2588,-19.5 132.2588,-17 132.2588,-17 132.2588,-5 132.2588,-5 132.2588,-2.5 134.7588,0 137.2588,0 137.2588,0 142.2588,0 142.2588,0 144.7588,0 147.2588,-2.5 147.2588,-5 147.2588,-5 147.2588,-17 147.2588,-17 147.2588,-19.5 144.7588,-22 142.2588,-22\"/>\n",
       "<text text-anchor=\"middle\" x=\"139.7588\" y=\"-6.8\" font-family=\"Times,serif\" font-size=\"14.00\" fill=\"#000000\">b</text>\n",
       "</g>\n",
       "<!-- 1693986297357277471 -->\n",
       "<g id=\"node17\" class=\"node\">\n",
       "<title>1693986297357277471</title>\n",
       "<path fill=\"none\" stroke=\"#000000\" stroke-width=\"1.25\" d=\"M175.2588,-22C175.2588,-22 170.2588,-22 170.2588,-22 167.7588,-22 165.2588,-19.5 165.2588,-17 165.2588,-17 165.2588,-5 165.2588,-5 165.2588,-2.5 167.7588,0 170.2588,0 170.2588,0 175.2588,0 175.2588,0 177.7588,0 180.2588,-2.5 180.2588,-5 180.2588,-5 180.2588,-17 180.2588,-17 180.2588,-19.5 177.7588,-22 175.2588,-22\"/>\n",
       "<text text-anchor=\"middle\" x=\"172.7588\" y=\"-6.8\" font-family=\"Times,serif\" font-size=\"14.00\" fill=\"#000000\">b</text>\n",
       "</g>\n",
       "<!-- 1693986297358442520&#45;&gt;1693986297357277471 -->\n",
       "<!-- &#45;8054046300538659346 -->\n",
       "<g id=\"node18\" class=\"node\">\n",
       "<title>&#45;8054046300538659346</title>\n",
       "<path fill=\"none\" stroke=\"#000000\" stroke-width=\"1.25\" d=\"M208.164,-22C208.164,-22 203.3536,-22 203.3536,-22 200.9485,-22 198.5433,-19.5948 198.5433,-17.1897 198.5433,-17.1897 198.5433,-4.8103 198.5433,-4.8103 198.5433,-2.4052 200.9485,0 203.3536,0 203.3536,0 208.164,0 208.164,0 210.5691,0 212.9743,-2.4052 212.9743,-4.8103 212.9743,-4.8103 212.9743,-17.1897 212.9743,-17.1897 212.9743,-19.5948 210.5691,-22 208.164,-22\"/>\n",
       "<text text-anchor=\"middle\" x=\"205.7588\" y=\"-6.8\" font-family=\"Times,serif\" font-size=\"14.00\" fill=\"#000000\">c</text>\n",
       "</g>\n",
       "<!-- 1693986297357277471&#45;&gt;&#45;8054046300538659346 -->\n",
       "<!-- &#45;8054046300539824395 -->\n",
       "<g id=\"node19\" class=\"node\">\n",
       "<title>&#45;8054046300539824395</title>\n",
       "<path fill=\"none\" stroke=\"#000000\" stroke-width=\"1.25\" d=\"M240.164,-22C240.164,-22 235.3536,-22 235.3536,-22 232.9485,-22 230.5433,-19.5948 230.5433,-17.1897 230.5433,-17.1897 230.5433,-4.8103 230.5433,-4.8103 230.5433,-2.4052 232.9485,0 235.3536,0 235.3536,0 240.164,0 240.164,0 242.5691,0 244.9743,-2.4052 244.9743,-4.8103 244.9743,-4.8103 244.9743,-17.1897 244.9743,-17.1897 244.9743,-19.5948 242.5691,-22 240.164,-22\"/>\n",
       "<text text-anchor=\"middle\" x=\"237.7588\" y=\"-6.8\" font-family=\"Times,serif\" font-size=\"14.00\" fill=\"#000000\">c</text>\n",
       "</g>\n",
       "<!-- &#45;8054046300538659346&#45;&gt;&#45;8054046300539824395 -->\n",
       "<!-- 2261406823152503810&#45;&gt;1693986297358442520 -->\n",
       "<g id=\"edge23\" class=\"edge\">\n",
       "<title>2261406823152503810&#45;&gt;1693986297358442520</title>\n",
       "<path fill=\"none\" stroke=\"#000000\" stroke-width=\".5\" d=\"M186.3333,-41.0642C180.8404,-37.756 167.0503,-29.3865 155.7588,-22 153.0507,-20.2285 150.1237,-18.2387 147.5227,-16.4435\"/>\n",
       "</g>\n",
       "<!-- 2261406823152503810&#45;&gt;1693986297357277471 -->\n",
       "<g id=\"edge24\" class=\"edge\">\n",
       "<title>2261406823152503810&#45;&gt;1693986297357277471</title>\n",
       "<path fill=\"none\" stroke=\"#000000\" stroke-width=\".5\" d=\"M187.5033,-40.0467C185.5584,-36.2153 181.6991,-28.6124 178.4167,-22.146\"/>\n",
       "</g>\n",
       "<!-- 2261406823152503810&#45;&gt;&#45;8054046300538659346 -->\n",
       "<g id=\"edge25\" class=\"edge\">\n",
       "<title>2261406823152503810&#45;&gt;&#45;8054046300538659346</title>\n",
       "<path fill=\"none\" stroke=\"#000000\" stroke-width=\".5\" d=\"M190.0928,-40.0467C192.1592,-36.2153 196.2597,-28.6124 199.7473,-22.146\"/>\n",
       "</g>\n",
       "<!-- 2261406823152503810&#45;&gt;&#45;8054046300539824395 -->\n",
       "<g id=\"edge26\" class=\"edge\">\n",
       "<title>2261406823152503810&#45;&gt;&#45;8054046300539824395</title>\n",
       "<path fill=\"none\" stroke=\"#000000\" stroke-width=\".5\" d=\"M191.1843,-41.0642C196.6771,-37.756 210.4673,-29.3865 221.7588,-22 224.6926,-20.0808 227.8833,-17.9055 230.638,-15.999\"/>\n",
       "</g>\n",
       "</g>\n",
       "</svg>\n"
      ],
      "text/plain": [
       "ProductionGraph(S -> a S Q -> a a b c Q -> a a b Q c -> a a b b c c)"
      ]
     },
     "execution_count": 4,
     "metadata": {},
     "output_type": "execute_result"
    }
   ],
   "source": [
    "from liblet import ProductionGraph\n",
    "\n",
    "ProductionGraph(d)"
   ]
  },
  {
   "cell_type": "markdown",
   "metadata": {},
   "source": [
    "## Context-free grammars and ambiguity\n",
    "\n",
    "Assume we want to experiment with an ambiguous grammar and look for two different leftmost derivation of the same sentence.\n",
    "\n",
    "To this aim, let's consider the following grammar and a short derivation leading to and addition of three terminals"
   ]
  },
  {
   "cell_type": "code",
   "execution_count": 54,
   "metadata": {},
   "outputs": [
    {
     "data": {
      "text/plain": [
       "E -> E + E -> E + E + E"
      ]
     },
     "execution_count": 54,
     "metadata": {},
     "output_type": "execute_result"
    }
   ],
   "source": [
    "G = Grammar.from_string(\"\"\"\n",
    "E -> E + E\n",
    "E -> E * E\n",
    "E -> i\n",
    "\"\"\")\n",
    "\n",
    "d = Derivation(G).step(0, 0).step(0, 0)\n",
    "d"
   ]
  },
  {
   "cell_type": "markdown",
   "metadata": {},
   "source": [
    "What are the possible steps at this point? The `possible_steps` method comes in handy, here is a (numbered) table of pairs $(p, q)$ where $p$ is production number and $q$ the position of the nonterminal that can be substituted:"
   ]
  },
  {
   "cell_type": "code",
   "execution_count": 69,
   "metadata": {},
   "outputs": [
    {
     "data": {
      "text/html": [
       "<table><tr><th>0<td style=\"text-align:left\"><pre>(0, 0)</pre>\n",
       "<tr><th>1<td style=\"text-align:left\"><pre>(0, 2)</pre>\n",
       "<tr><th>2<td style=\"text-align:left\"><pre>(0, 4)</pre>\n",
       "<tr><th>3<td style=\"text-align:left\"><pre>(1, 0)</pre>\n",
       "<tr><th>4<td style=\"text-align:left\"><pre>(1, 2)</pre>\n",
       "<tr><th>5<td style=\"text-align:left\"><pre>(1, 4)</pre>\n",
       "<tr><th>6<td style=\"text-align:left\"><pre>(2, 0)</pre>\n",
       "<tr><th>7<td style=\"text-align:left\"><pre>(2, 2)</pre>\n",
       "<tr><th>8<td style=\"text-align:left\"><pre>(2, 4)</pre></table>"
      ],
      "text/plain": [
       "<IPython.core.display.HTML object>"
      ]
     },
     "execution_count": 69,
     "metadata": {},
     "output_type": "execute_result"
    }
   ],
   "source": [
    "possible_steps = list(d.possible_steps())\n",
    "iter2table(possible_steps)"
   ]
  },
  {
   "cell_type": "markdown",
   "metadata": {},
   "source": [
    "If we look for just for leftmost derivations among the $(p, q)$s, we must keep just the $p$s corresponding to the $q$s equal to the minimum of the possible $q$ values. The following function can be used to such aim:"
   ]
  },
  {
   "cell_type": "code",
   "execution_count": 84,
   "metadata": {},
   "outputs": [
    {
     "data": {
      "text/plain": [
       "[0, 1, 2]"
      ]
     },
     "execution_count": 84,
     "metadata": {},
     "output_type": "execute_result"
    }
   ],
   "source": [
    "from operator import itemgetter\n",
    "\n",
    "def filter_leftmost_prods(possible_steps):\n",
    "    possible_steps = list(possible_steps)\n",
    "    if possible_steps:\n",
    "        min_q = min(possible_steps, key = itemgetter(1))[1]\n",
    "        return map(itemgetter(0), filter(lambda ps: ps[1] == min_q, possible_steps))\n",
    "    return tuple()\n",
    "\n",
    "list(filter_leftmost_prods(possible_steps))"
   ]
  },
  {
   "cell_type": "markdown",
   "metadata": {},
   "source": [
    "Now, using a `Queue` we can enumerate all the leftmost productions, we can have a fancy generator that returns a new derivation each time `next` is called on it:"
   ]
  },
  {
   "cell_type": "code",
   "execution_count": 108,
   "metadata": {},
   "outputs": [],
   "source": [
    "from liblet import Queue\n",
    "\n",
    "def derivation_generator(G):\n",
    "    Q = Queue([Derivation(G)])\n",
    "    while Q:\n",
    "        derivation = Q.dequeue()\n",
    "        if G.all_terminals(derivation.sentential_form()): \n",
    "            yield derivation\n",
    "        for nprod in filter_leftmost_prods(derivation.possible_steps()):\n",
    "            Q.enqueue(derivation.leftmost(nprod))"
   ]
  },
  {
   "cell_type": "markdown",
   "metadata": {},
   "source": [
    "Let's collect the first 10 derivations"
   ]
  },
  {
   "cell_type": "code",
   "execution_count": 111,
   "metadata": {},
   "outputs": [
    {
     "data": {
      "text/html": [
       "<table><tr><th>0<td style=\"text-align:left\"><pre>E -> i</pre>\n",
       "<tr><th>1<td style=\"text-align:left\"><pre>E -> E + E -> i + E -> i + i</pre>\n",
       "<tr><th>2<td style=\"text-align:left\"><pre>E -> E * E -> i * E -> i * i</pre>\n",
       "<tr><th>3<td style=\"text-align:left\"><pre>E -> E + E -> E + E + E -> i + E + E -> i + i + E -> i + i + i</pre>\n",
       "<tr><th>4<td style=\"text-align:left\"><pre>E -> E + E -> E * E + E -> i * E + E -> i * i + E -> i * i + i</pre>\n",
       "<tr><th>5<td style=\"text-align:left\"><pre>E -> E + E -> i + E -> i + E + E -> i + i + E -> i + i + i</pre>\n",
       "<tr><th>6<td style=\"text-align:left\"><pre>E -> E + E -> i + E -> i + E * E -> i + i * E -> i + i * i</pre>\n",
       "<tr><th>7<td style=\"text-align:left\"><pre>E -> E * E -> E + E * E -> i + E * E -> i + i * E -> i + i * i</pre>\n",
       "<tr><th>8<td style=\"text-align:left\"><pre>E -> E * E -> E * E * E -> i * E * E -> i * i * E -> i * i * i</pre>\n",
       "<tr><th>9<td style=\"text-align:left\"><pre>E -> E * E -> i * E -> i * E + E -> i * i + E -> i * i + i</pre></table>"
      ],
      "text/plain": [
       "<IPython.core.display.HTML object>"
      ]
     },
     "execution_count": 111,
     "metadata": {},
     "output_type": "execute_result"
    }
   ],
   "source": [
    "derivation = derivation_generator(G)\n",
    "D = [next(derivation) for _ in range(10)]\n",
    "iter2table(D)"
   ]
  },
  {
   "cell_type": "markdown",
   "metadata": {},
   "source": [
    "As one can easily see, derivations 6 and 7 produce the same sentence `i + i * i` but evidently with two different leftmost derivations. We can give a look at the production graphs to better see what is happening."
   ]
  },
  {
   "cell_type": "code",
   "execution_count": 112,
   "metadata": {},
   "outputs": [
    {
     "data": {
      "text/html": [
       "<div><?xml version=\"1.0\" encoding=\"UTF-8\" standalone=\"no\"?>\n",
       "<!DOCTYPE svg PUBLIC \"-//W3C//DTD SVG 1.1//EN\"\n",
       " \"http://www.w3.org/Graphics/SVG/1.1/DTD/svg11.dtd\">\n",
       "<!-- Generated by graphviz version 2.40.1 (20161225.0304)\n",
       " -->\n",
       "<!-- Title: %3 Pages: 1 -->\n",
       "<svg width=\"243pt\" height=\"230pt\"\n",
       " viewBox=\"0.00 0.00 243.03 230.00\" xmlns=\"http://www.w3.org/2000/svg\" xmlns:xlink=\"http://www.w3.org/1999/xlink\">\n",
       "<g id=\"graph0\" class=\"graph\" transform=\"scale(1 1) rotate(0) translate(4 226)\">\n",
       "<title>%3</title>\n",
       "<polygon fill=\"#ffffff\" stroke=\"transparent\" points=\"-4,4 -4,-226 239.0347,-226 239.0347,4 -4,4\"/>\n",
       "<!-- 2851357810715378549 -->\n",
       "<!-- 6761465718764935585 -->\n",
       "<!-- 2851357810715378549&#45;&gt;6761465718764935585 -->\n",
       "<!-- &#45;144005099224911522 -->\n",
       "<g id=\"node2\" class=\"node\">\n",
       "<title>&#45;144005099224911522</title>\n",
       "<path fill=\"none\" stroke=\"#000000\" stroke-width=\".25\" d=\"M157.4447,-222C157.4447,-222 152.0729,-222 152.0729,-222 149.387,-222 146.7011,-219.3141 146.7011,-216.6282 146.7011,-216.6282 146.7011,-205.3718 146.7011,-205.3718 146.7011,-202.6859 149.387,-200 152.0729,-200 152.0729,-200 157.4447,-200 157.4447,-200 160.1306,-200 162.8165,-202.6859 162.8165,-205.3718 162.8165,-205.3718 162.8165,-216.6282 162.8165,-216.6282 162.8165,-219.3141 160.1306,-222 157.4447,-222\"/>\n",
       "<text text-anchor=\"middle\" x=\"154.7588\" y=\"-206.8\" font-family=\"Times,serif\" font-size=\"14.00\" fill=\"#000000\">E</text>\n",
       "</g>\n",
       "<!-- &#45;144006360421910345 -->\n",
       "<g id=\"node4\" class=\"node\">\n",
       "<title>&#45;144006360421910345</title>\n",
       "<path fill=\"none\" stroke=\"#000000\" stroke-width=\".25\" d=\"M123.4447,-182C123.4447,-182 118.0729,-182 118.0729,-182 115.387,-182 112.7011,-179.3141 112.7011,-176.6282 112.7011,-176.6282 112.7011,-165.3718 112.7011,-165.3718 112.7011,-162.6859 115.387,-160 118.0729,-160 118.0729,-160 123.4447,-160 123.4447,-160 126.1306,-160 128.8165,-162.6859 128.8165,-165.3718 128.8165,-165.3718 128.8165,-176.6282 128.8165,-176.6282 128.8165,-179.3141 126.1306,-182 123.4447,-182\"/>\n",
       "<text text-anchor=\"middle\" x=\"120.7588\" y=\"-166.8\" font-family=\"Times,serif\" font-size=\"14.00\" fill=\"#000000\">E</text>\n",
       "</g>\n",
       "<!-- &#45;144005099224911522&#45;&gt;&#45;144006360421910345 -->\n",
       "<g id=\"edge2\" class=\"edge\">\n",
       "<title>&#45;144005099224911522&#45;&gt;&#45;144006360421910345</title>\n",
       "<path fill=\"none\" stroke=\"#000000\" stroke-width=\".5\" d=\"M146.5283,-201.3171C141.1827,-195.0281 134.2439,-186.8649 128.9134,-180.5937\"/>\n",
       "</g>\n",
       "<!-- &#45;3621913896939667590 -->\n",
       "<g id=\"node5\" class=\"node\">\n",
       "<title>&#45;3621913896939667590</title>\n",
       "<path fill=\"none\" stroke=\"#000000\" stroke-width=\"1.25\" d=\"M157.3907,-182C157.3907,-182 152.1268,-182 152.1268,-182 149.4949,-182 146.8629,-179.3681 146.8629,-176.7361 146.8629,-176.7361 146.8629,-165.2639 146.8629,-165.2639 146.8629,-162.6319 149.4949,-160 152.1268,-160 152.1268,-160 157.3907,-160 157.3907,-160 160.0227,-160 162.6546,-162.6319 162.6546,-165.2639 162.6546,-165.2639 162.6546,-176.7361 162.6546,-176.7361 162.6546,-179.3681 160.0227,-182 157.3907,-182\"/>\n",
       "<text text-anchor=\"middle\" x=\"154.7588\" y=\"-166.8\" font-family=\"Times,serif\" font-size=\"14.00\" fill=\"#000000\">+</text>\n",
       "</g>\n",
       "<!-- &#45;144005099224911522&#45;&gt;&#45;3621913896939667590 -->\n",
       "<g id=\"edge3\" class=\"edge\">\n",
       "<title>&#45;144005099224911522&#45;&gt;&#45;3621913896939667590</title>\n",
       "<path fill=\"none\" stroke=\"#000000\" stroke-width=\".5\" d=\"M154.7588,-199.6446C154.7588,-194.1937 154.7588,-187.6819 154.7588,-182.2453\"/>\n",
       "</g>\n",
       "<!-- &#45;144006360419580247 -->\n",
       "<g id=\"node6\" class=\"node\">\n",
       "<title>&#45;144006360419580247</title>\n",
       "<path fill=\"none\" stroke=\"#000000\" stroke-width=\".25\" d=\"M191.4447,-182C191.4447,-182 186.0729,-182 186.0729,-182 183.387,-182 180.7011,-179.3141 180.7011,-176.6282 180.7011,-176.6282 180.7011,-165.3718 180.7011,-165.3718 180.7011,-162.6859 183.387,-160 186.0729,-160 186.0729,-160 191.4447,-160 191.4447,-160 194.1306,-160 196.8165,-162.6859 196.8165,-165.3718 196.8165,-165.3718 196.8165,-176.6282 196.8165,-176.6282 196.8165,-179.3141 194.1306,-182 191.4447,-182\"/>\n",
       "<text text-anchor=\"middle\" x=\"188.7588\" y=\"-166.8\" font-family=\"Times,serif\" font-size=\"14.00\" fill=\"#000000\">E</text>\n",
       "</g>\n",
       "<!-- &#45;144005099224911522&#45;&gt;&#45;144006360419580247 -->\n",
       "<g id=\"edge4\" class=\"edge\">\n",
       "<title>&#45;144005099224911522&#45;&gt;&#45;144006360419580247</title>\n",
       "<path fill=\"none\" stroke=\"#000000\" stroke-width=\".5\" d=\"M162.9892,-201.3171C168.3349,-195.0281 175.2736,-186.8649 180.6041,-180.5937\"/>\n",
       "</g>\n",
       "<!-- 5227848549782196201 -->\n",
       "<!-- 6761465718764935585&#45;&gt;5227848549782196201 -->\n",
       "<!-- &#45;144006360421910345&#45;&gt;&#45;3621913896939667590 -->\n",
       "<!-- 738751796731056083 -->\n",
       "<g id=\"node8\" class=\"node\">\n",
       "<title>738751796731056083</title>\n",
       "<path fill=\"none\" stroke=\"#000000\" stroke-width=\"1.25\" d=\"M120.7222,-142C120.7222,-142 116.7954,-142 116.7954,-142 114.832,-142 112.8686,-140.0366 112.8686,-138.0732 112.8686,-138.0732 112.8686,-123.9268 112.8686,-123.9268 112.8686,-121.9634 114.832,-120 116.7954,-120 116.7954,-120 120.7222,-120 120.7222,-120 122.6856,-120 124.6489,-121.9634 124.6489,-123.9268 124.6489,-123.9268 124.6489,-138.0732 124.6489,-138.0732 124.6489,-140.0366 122.6856,-142 120.7222,-142\"/>\n",
       "<text text-anchor=\"middle\" x=\"118.7588\" y=\"-126.8\" font-family=\"Times,serif\" font-size=\"14.00\" fill=\"#000000\">i</text>\n",
       "</g>\n",
       "<!-- &#45;144006360421910345&#45;&gt;738751796731056083 -->\n",
       "<g id=\"edge8\" class=\"edge\">\n",
       "<title>&#45;144006360421910345&#45;&gt;738751796731056083</title>\n",
       "<path fill=\"none\" stroke=\"#000000\" stroke-width=\".5\" d=\"M120.191,-159.6446C119.9185,-154.1937 119.5929,-147.6819 119.3211,-142.2453\"/>\n",
       "</g>\n",
       "<!-- &#45;3621913896939667590&#45;&gt;&#45;144006360419580247 -->\n",
       "<!-- &#45;144003838027912699 -->\n",
       "<g id=\"node10\" class=\"node\">\n",
       "<title>&#45;144003838027912699</title>\n",
       "<path fill=\"none\" stroke=\"#000000\" stroke-width=\".25\" d=\"M157.4447,-102C157.4447,-102 152.0729,-102 152.0729,-102 149.387,-102 146.7011,-99.3141 146.7011,-96.6282 146.7011,-96.6282 146.7011,-85.3718 146.7011,-85.3718 146.7011,-82.6859 149.387,-80 152.0729,-80 152.0729,-80 157.4447,-80 157.4447,-80 160.1306,-80 162.8165,-82.6859 162.8165,-85.3718 162.8165,-85.3718 162.8165,-96.6282 162.8165,-96.6282 162.8165,-99.3141 160.1306,-102 157.4447,-102\"/>\n",
       "<text text-anchor=\"middle\" x=\"154.7588\" y=\"-86.8\" font-family=\"Times,serif\" font-size=\"14.00\" fill=\"#000000\">E</text>\n",
       "</g>\n",
       "<!-- &#45;144006360419580247&#45;&gt;&#45;144003838027912699 -->\n",
       "<g id=\"edge10\" class=\"edge\">\n",
       "<title>&#45;144006360419580247&#45;&gt;&#45;144003838027912699</title>\n",
       "<path fill=\"none\" stroke=\"#000000\" stroke-width=\".5\" d=\"M184.0312,-159.8763C177.5354,-144.5921 165.9208,-117.2636 159.4462,-102.0292\"/>\n",
       "</g>\n",
       "<!-- 6767100194165457983 -->\n",
       "<g id=\"node11\" class=\"node\">\n",
       "<title>6767100194165457983</title>\n",
       "<path fill=\"none\" stroke=\"#000000\" stroke-width=\"1.25\" d=\"M193.2588,-102C193.2588,-102 188.2588,-102 188.2588,-102 185.7588,-102 183.2588,-99.5 183.2588,-97 183.2588,-97 183.2588,-85 183.2588,-85 183.2588,-82.5 185.7588,-80 188.2588,-80 188.2588,-80 193.2588,-80 193.2588,-80 195.7588,-80 198.2588,-82.5 198.2588,-85 198.2588,-85 198.2588,-97 198.2588,-97 198.2588,-99.5 195.7588,-102 193.2588,-102\"/>\n",
       "<text text-anchor=\"middle\" x=\"190.7588\" y=\"-86.8\" font-family=\"Times,serif\" font-size=\"14.00\" fill=\"#000000\">*</text>\n",
       "</g>\n",
       "<!-- &#45;144006360419580247&#45;&gt;6767100194165457983 -->\n",
       "<g id=\"edge11\" class=\"edge\">\n",
       "<title>&#45;144006360419580247&#45;&gt;6767100194165457983</title>\n",
       "<path fill=\"none\" stroke=\"#000000\" stroke-width=\".5\" d=\"M189.0369,-159.8763C189.419,-144.5921 190.1022,-117.2636 190.4831,-102.0292\"/>\n",
       "</g>\n",
       "<!-- &#45;144003838030242797 -->\n",
       "<g id=\"node12\" class=\"node\">\n",
       "<title>&#45;144003838030242797</title>\n",
       "<path fill=\"none\" stroke=\"#000000\" stroke-width=\".25\" d=\"M229.4447,-102C229.4447,-102 224.0729,-102 224.0729,-102 221.387,-102 218.7011,-99.3141 218.7011,-96.6282 218.7011,-96.6282 218.7011,-85.3718 218.7011,-85.3718 218.7011,-82.6859 221.387,-80 224.0729,-80 224.0729,-80 229.4447,-80 229.4447,-80 232.1306,-80 234.8165,-82.6859 234.8165,-85.3718 234.8165,-85.3718 234.8165,-96.6282 234.8165,-96.6282 234.8165,-99.3141 232.1306,-102 229.4447,-102\"/>\n",
       "<text text-anchor=\"middle\" x=\"226.7588\" y=\"-86.8\" font-family=\"Times,serif\" font-size=\"14.00\" fill=\"#000000\">E</text>\n",
       "</g>\n",
       "<!-- &#45;144006360419580247&#45;&gt;&#45;144003838030242797 -->\n",
       "<g id=\"edge12\" class=\"edge\">\n",
       "<title>&#45;144006360419580247&#45;&gt;&#45;144003838030242797</title>\n",
       "<path fill=\"none\" stroke=\"#000000\" stroke-width=\".5\" d=\"M194.7416,-159.7778C197.5475,-154.4285 200.8958,-147.9192 203.7588,-142 210.3564,-128.3596 217.4539,-112.4052 221.9922,-102.0222\"/>\n",
       "</g>\n",
       "<!-- &#45;5532960968932045710 -->\n",
       "<!-- 5227848549782196201&#45;&gt;&#45;5532960968932045710 -->\n",
       "<!-- 625776116177663425 -->\n",
       "<!-- &#45;5532960968932045710&#45;&gt;625776116177663425 -->\n",
       "<!-- &#45;144003838027912699&#45;&gt;6767100194165457983 -->\n",
       "<!-- 738759363913049021 -->\n",
       "<g id=\"node14\" class=\"node\">\n",
       "<title>738759363913049021</title>\n",
       "<path fill=\"none\" stroke=\"#000000\" stroke-width=\"1.25\" d=\"M156.7222,-62C156.7222,-62 152.7954,-62 152.7954,-62 150.832,-62 148.8686,-60.0366 148.8686,-58.0732 148.8686,-58.0732 148.8686,-43.9268 148.8686,-43.9268 148.8686,-41.9634 150.832,-40 152.7954,-40 152.7954,-40 156.7222,-40 156.7222,-40 158.6856,-40 160.6489,-41.9634 160.6489,-43.9268 160.6489,-43.9268 160.6489,-58.0732 160.6489,-58.0732 160.6489,-60.0366 158.6856,-62 156.7222,-62\"/>\n",
       "<text text-anchor=\"middle\" x=\"154.7588\" y=\"-46.8\" font-family=\"Times,serif\" font-size=\"14.00\" fill=\"#000000\">i</text>\n",
       "</g>\n",
       "<!-- &#45;144003838027912699&#45;&gt;738759363913049021 -->\n",
       "<g id=\"edge16\" class=\"edge\">\n",
       "<title>&#45;144003838027912699&#45;&gt;738759363913049021</title>\n",
       "<path fill=\"none\" stroke=\"#000000\" stroke-width=\".5\" d=\"M154.7588,-79.6446C154.7588,-74.1937 154.7588,-67.6819 154.7588,-62.2453\"/>\n",
       "</g>\n",
       "<!-- 6767100194165457983&#45;&gt;&#45;144003838030242797 -->\n",
       "<!-- 738760625110047844 -->\n",
       "<g id=\"node16\" class=\"node\">\n",
       "<title>738760625110047844</title>\n",
       "<path fill=\"none\" stroke=\"#000000\" stroke-width=\"1.25\" d=\"M228.7222,-22C228.7222,-22 224.7954,-22 224.7954,-22 222.832,-22 220.8686,-20.0366 220.8686,-18.0732 220.8686,-18.0732 220.8686,-3.9268 220.8686,-3.9268 220.8686,-1.9634 222.832,0 224.7954,0 224.7954,0 228.7222,0 228.7222,0 230.6856,0 232.6489,-1.9634 232.6489,-3.9268 232.6489,-3.9268 232.6489,-18.0732 232.6489,-18.0732 232.6489,-20.0366 230.6856,-22 228.7222,-22\"/>\n",
       "<text text-anchor=\"middle\" x=\"226.7588\" y=\"-6.8\" font-family=\"Times,serif\" font-size=\"14.00\" fill=\"#000000\">i</text>\n",
       "</g>\n",
       "<!-- &#45;144003838030242797&#45;&gt;738760625110047844 -->\n",
       "<g id=\"edge18\" class=\"edge\">\n",
       "<title>&#45;144003838030242797&#45;&gt;738760625110047844</title>\n",
       "<path fill=\"none\" stroke=\"#000000\" stroke-width=\".5\" d=\"M226.7588,-79.8763C226.7588,-64.5921 226.7588,-37.2636 226.7588,-22.0292\"/>\n",
       "</g>\n",
       "<!-- &#45;5009800998607505040 -->\n",
       "<!-- 625776116177663425&#45;&gt;&#45;5009800998607505040 -->\n",
       "</g>\n",
       "</svg>\n",
       " <?xml version=\"1.0\" encoding=\"UTF-8\" standalone=\"no\"?>\n",
       "<!DOCTYPE svg PUBLIC \"-//W3C//DTD SVG 1.1//EN\"\n",
       " \"http://www.w3.org/Graphics/SVG/1.1/DTD/svg11.dtd\">\n",
       "<!-- Generated by graphviz version 2.40.1 (20161225.0304)\n",
       " -->\n",
       "<!-- Title: %3 Pages: 1 -->\n",
       "<svg width=\"239pt\" height=\"230pt\"\n",
       " viewBox=\"0.00 0.00 239.03 230.00\" xmlns=\"http://www.w3.org/2000/svg\" xmlns:xlink=\"http://www.w3.org/1999/xlink\">\n",
       "<g id=\"graph0\" class=\"graph\" transform=\"scale(1 1) rotate(0) translate(4 226)\">\n",
       "<title>%3</title>\n",
       "<polygon fill=\"#ffffff\" stroke=\"transparent\" points=\"-4,4 -4,-226 235.0347,-226 235.0347,4 -4,4\"/>\n",
       "<!-- 2851357810715378549 -->\n",
       "<!-- 6761465718764935585 -->\n",
       "<!-- 2851357810715378549&#45;&gt;6761465718764935585 -->\n",
       "<!-- &#45;144005099224911522 -->\n",
       "<g id=\"node2\" class=\"node\">\n",
       "<title>&#45;144005099224911522</title>\n",
       "<path fill=\"none\" stroke=\"#000000\" stroke-width=\".25\" d=\"M191.4447,-222C191.4447,-222 186.0729,-222 186.0729,-222 183.387,-222 180.7011,-219.3141 180.7011,-216.6282 180.7011,-216.6282 180.7011,-205.3718 180.7011,-205.3718 180.7011,-202.6859 183.387,-200 186.0729,-200 186.0729,-200 191.4447,-200 191.4447,-200 194.1306,-200 196.8165,-202.6859 196.8165,-205.3718 196.8165,-205.3718 196.8165,-216.6282 196.8165,-216.6282 196.8165,-219.3141 194.1306,-222 191.4447,-222\"/>\n",
       "<text text-anchor=\"middle\" x=\"188.7588\" y=\"-206.8\" font-family=\"Times,serif\" font-size=\"14.00\" fill=\"#000000\">E</text>\n",
       "</g>\n",
       "<!-- &#45;144006360421910345 -->\n",
       "<g id=\"node4\" class=\"node\">\n",
       "<title>&#45;144006360421910345</title>\n",
       "<path fill=\"none\" stroke=\"#000000\" stroke-width=\".25\" d=\"M157.4447,-182C157.4447,-182 152.0729,-182 152.0729,-182 149.387,-182 146.7011,-179.3141 146.7011,-176.6282 146.7011,-176.6282 146.7011,-165.3718 146.7011,-165.3718 146.7011,-162.6859 149.387,-160 152.0729,-160 152.0729,-160 157.4447,-160 157.4447,-160 160.1306,-160 162.8165,-162.6859 162.8165,-165.3718 162.8165,-165.3718 162.8165,-176.6282 162.8165,-176.6282 162.8165,-179.3141 160.1306,-182 157.4447,-182\"/>\n",
       "<text text-anchor=\"middle\" x=\"154.7588\" y=\"-166.8\" font-family=\"Times,serif\" font-size=\"14.00\" fill=\"#000000\">E</text>\n",
       "</g>\n",
       "<!-- &#45;144005099224911522&#45;&gt;&#45;144006360421910345 -->\n",
       "<g id=\"edge2\" class=\"edge\">\n",
       "<title>&#45;144005099224911522&#45;&gt;&#45;144006360421910345</title>\n",
       "<path fill=\"none\" stroke=\"#000000\" stroke-width=\".5\" d=\"M180.5283,-201.3171C175.1827,-195.0281 168.2439,-186.8649 162.9134,-180.5937\"/>\n",
       "</g>\n",
       "<!-- 6767097671771460337 -->\n",
       "<g id=\"node5\" class=\"node\">\n",
       "<title>6767097671771460337</title>\n",
       "<path fill=\"none\" stroke=\"#000000\" stroke-width=\"1.25\" d=\"M191.2588,-182C191.2588,-182 186.2588,-182 186.2588,-182 183.7588,-182 181.2588,-179.5 181.2588,-177 181.2588,-177 181.2588,-165 181.2588,-165 181.2588,-162.5 183.7588,-160 186.2588,-160 186.2588,-160 191.2588,-160 191.2588,-160 193.7588,-160 196.2588,-162.5 196.2588,-165 196.2588,-165 196.2588,-177 196.2588,-177 196.2588,-179.5 193.7588,-182 191.2588,-182\"/>\n",
       "<text text-anchor=\"middle\" x=\"188.7588\" y=\"-166.8\" font-family=\"Times,serif\" font-size=\"14.00\" fill=\"#000000\">*</text>\n",
       "</g>\n",
       "<!-- &#45;144005099224911522&#45;&gt;6767097671771460337 -->\n",
       "<g id=\"edge3\" class=\"edge\">\n",
       "<title>&#45;144005099224911522&#45;&gt;6767097671771460337</title>\n",
       "<path fill=\"none\" stroke=\"#000000\" stroke-width=\".5\" d=\"M188.7588,-199.6446C188.7588,-194.1937 188.7588,-187.6819 188.7588,-182.2453\"/>\n",
       "</g>\n",
       "<!-- &#45;144006360419580247 -->\n",
       "<g id=\"node6\" class=\"node\">\n",
       "<title>&#45;144006360419580247</title>\n",
       "<path fill=\"none\" stroke=\"#000000\" stroke-width=\".25\" d=\"M225.4447,-182C225.4447,-182 220.0729,-182 220.0729,-182 217.387,-182 214.7011,-179.3141 214.7011,-176.6282 214.7011,-176.6282 214.7011,-165.3718 214.7011,-165.3718 214.7011,-162.6859 217.387,-160 220.0729,-160 220.0729,-160 225.4447,-160 225.4447,-160 228.1306,-160 230.8165,-162.6859 230.8165,-165.3718 230.8165,-165.3718 230.8165,-176.6282 230.8165,-176.6282 230.8165,-179.3141 228.1306,-182 225.4447,-182\"/>\n",
       "<text text-anchor=\"middle\" x=\"222.7588\" y=\"-166.8\" font-family=\"Times,serif\" font-size=\"14.00\" fill=\"#000000\">E</text>\n",
       "</g>\n",
       "<!-- &#45;144005099224911522&#45;&gt;&#45;144006360419580247 -->\n",
       "<g id=\"edge4\" class=\"edge\">\n",
       "<title>&#45;144005099224911522&#45;&gt;&#45;144006360419580247</title>\n",
       "<path fill=\"none\" stroke=\"#000000\" stroke-width=\".5\" d=\"M196.9892,-201.3171C202.3349,-195.0281 209.2736,-186.8649 214.6041,-180.5937\"/>\n",
       "</g>\n",
       "<!-- 5227848549782196201 -->\n",
       "<!-- 6761465718764935585&#45;&gt;5227848549782196201 -->\n",
       "<!-- &#45;144006360421910345&#45;&gt;6767097671771460337 -->\n",
       "<!-- &#45;144002576830913876 -->\n",
       "<g id=\"node8\" class=\"node\">\n",
       "<title>&#45;144002576830913876</title>\n",
       "<path fill=\"none\" stroke=\"#000000\" stroke-width=\".25\" d=\"M122.4447,-142C122.4447,-142 117.0729,-142 117.0729,-142 114.387,-142 111.7011,-139.3141 111.7011,-136.6282 111.7011,-136.6282 111.7011,-125.3718 111.7011,-125.3718 111.7011,-122.6859 114.387,-120 117.0729,-120 117.0729,-120 122.4447,-120 122.4447,-120 125.1306,-120 127.8165,-122.6859 127.8165,-125.3718 127.8165,-125.3718 127.8165,-136.6282 127.8165,-136.6282 127.8165,-139.3141 125.1306,-142 122.4447,-142\"/>\n",
       "<text text-anchor=\"middle\" x=\"119.7588\" y=\"-126.8\" font-family=\"Times,serif\" font-size=\"14.00\" fill=\"#000000\">E</text>\n",
       "</g>\n",
       "<!-- &#45;144006360421910345&#45;&gt;&#45;144002576830913876 -->\n",
       "<g id=\"edge8\" class=\"edge\">\n",
       "<title>&#45;144006360421910345&#45;&gt;&#45;144002576830913876</title>\n",
       "<path fill=\"none\" stroke=\"#000000\" stroke-width=\".5\" d=\"M146.6411,-161.7227C140.9868,-155.2606 133.4771,-146.6781 127.8324,-140.227\"/>\n",
       "</g>\n",
       "<!-- &#45;3621915158138996511 -->\n",
       "<g id=\"node9\" class=\"node\">\n",
       "<title>&#45;3621915158138996511</title>\n",
       "<path fill=\"none\" stroke=\"#000000\" stroke-width=\"1.25\" d=\"M156.3907,-142C156.3907,-142 151.1268,-142 151.1268,-142 148.4949,-142 145.8629,-139.3681 145.8629,-136.7361 145.8629,-136.7361 145.8629,-125.2639 145.8629,-125.2639 145.8629,-122.6319 148.4949,-120 151.1268,-120 151.1268,-120 156.3907,-120 156.3907,-120 159.0227,-120 161.6546,-122.6319 161.6546,-125.2639 161.6546,-125.2639 161.6546,-136.7361 161.6546,-136.7361 161.6546,-139.3681 159.0227,-142 156.3907,-142\"/>\n",
       "<text text-anchor=\"middle\" x=\"153.7588\" y=\"-126.8\" font-family=\"Times,serif\" font-size=\"14.00\" fill=\"#000000\">+</text>\n",
       "</g>\n",
       "<!-- &#45;144006360421910345&#45;&gt;&#45;3621915158138996511 -->\n",
       "<g id=\"edge9\" class=\"edge\">\n",
       "<title>&#45;144006360421910345&#45;&gt;&#45;3621915158138996511</title>\n",
       "<path fill=\"none\" stroke=\"#000000\" stroke-width=\".5\" d=\"M154.4749,-159.6446C154.3386,-154.1937 154.1758,-147.6819 154.0399,-142.2453\"/>\n",
       "</g>\n",
       "<!-- &#45;144002576828583778 -->\n",
       "<g id=\"node10\" class=\"node\">\n",
       "<title>&#45;144002576828583778</title>\n",
       "<path fill=\"none\" stroke=\"#000000\" stroke-width=\".25\" d=\"M190.4447,-142C190.4447,-142 185.0729,-142 185.0729,-142 182.387,-142 179.7011,-139.3141 179.7011,-136.6282 179.7011,-136.6282 179.7011,-125.3718 179.7011,-125.3718 179.7011,-122.6859 182.387,-120 185.0729,-120 185.0729,-120 190.4447,-120 190.4447,-120 193.1306,-120 195.8165,-122.6859 195.8165,-125.3718 195.8165,-125.3718 195.8165,-136.6282 195.8165,-136.6282 195.8165,-139.3141 193.1306,-142 190.4447,-142\"/>\n",
       "<text text-anchor=\"middle\" x=\"187.7588\" y=\"-126.8\" font-family=\"Times,serif\" font-size=\"14.00\" fill=\"#000000\">E</text>\n",
       "</g>\n",
       "<!-- &#45;144006360421910345&#45;&gt;&#45;144002576828583778 -->\n",
       "<g id=\"edge10\" class=\"edge\">\n",
       "<title>&#45;144006360421910345&#45;&gt;&#45;144002576828583778</title>\n",
       "<path fill=\"none\" stroke=\"#000000\" stroke-width=\".5\" d=\"M163.0861,-160.9063C168.1268,-154.7963 174.529,-147.0361 179.5485,-140.9519\"/>\n",
       "</g>\n",
       "<!-- 6767097671771460337&#45;&gt;&#45;144006360419580247 -->\n",
       "<!-- 738760625110047844 -->\n",
       "<g id=\"node16\" class=\"node\">\n",
       "<title>738760625110047844</title>\n",
       "<path fill=\"none\" stroke=\"#000000\" stroke-width=\"1.25\" d=\"M226.7222,-22C226.7222,-22 222.7954,-22 222.7954,-22 220.832,-22 218.8686,-20.0366 218.8686,-18.0732 218.8686,-18.0732 218.8686,-3.9268 218.8686,-3.9268 218.8686,-1.9634 220.832,0 222.7954,0 222.7954,0 226.7222,0 226.7222,0 228.6856,0 230.6489,-1.9634 230.6489,-3.9268 230.6489,-3.9268 230.6489,-18.0732 230.6489,-18.0732 230.6489,-20.0366 228.6856,-22 226.7222,-22\"/>\n",
       "<text text-anchor=\"middle\" x=\"224.7588\" y=\"-6.8\" font-family=\"Times,serif\" font-size=\"14.00\" fill=\"#000000\">i</text>\n",
       "</g>\n",
       "<!-- &#45;144006360419580247&#45;&gt;738760625110047844 -->\n",
       "<g id=\"edge18\" class=\"edge\">\n",
       "<title>&#45;144006360419580247&#45;&gt;738760625110047844</title>\n",
       "<path fill=\"none\" stroke=\"#000000\" stroke-width=\".5\" d=\"M222.8994,-159.7491C223.2675,-130.3006 224.256,-51.2201 224.621,-22.026\"/>\n",
       "</g>\n",
       "<!-- &#45;5532960968932045710 -->\n",
       "<!-- 5227848549782196201&#45;&gt;&#45;5532960968932045710 -->\n",
       "<!-- &#45;144002576830913876&#45;&gt;&#45;3621915158138996511 -->\n",
       "<!-- 738753057928054906 -->\n",
       "<g id=\"node12\" class=\"node\">\n",
       "<title>738753057928054906</title>\n",
       "<path fill=\"none\" stroke=\"#000000\" stroke-width=\"1.25\" d=\"M121.7222,-102C121.7222,-102 117.7954,-102 117.7954,-102 115.832,-102 113.8686,-100.0366 113.8686,-98.0732 113.8686,-98.0732 113.8686,-83.9268 113.8686,-83.9268 113.8686,-81.9634 115.832,-80 117.7954,-80 117.7954,-80 121.7222,-80 121.7222,-80 123.6856,-80 125.6489,-81.9634 125.6489,-83.9268 125.6489,-83.9268 125.6489,-98.0732 125.6489,-98.0732 125.6489,-100.0366 123.6856,-102 121.7222,-102\"/>\n",
       "<text text-anchor=\"middle\" x=\"119.7588\" y=\"-86.8\" font-family=\"Times,serif\" font-size=\"14.00\" fill=\"#000000\">i</text>\n",
       "</g>\n",
       "<!-- &#45;144002576830913876&#45;&gt;738753057928054906 -->\n",
       "<g id=\"edge14\" class=\"edge\">\n",
       "<title>&#45;144002576830913876&#45;&gt;738753057928054906</title>\n",
       "<path fill=\"none\" stroke=\"#000000\" stroke-width=\".5\" d=\"M119.7588,-119.6446C119.7588,-114.1937 119.7588,-107.6819 119.7588,-102.2453\"/>\n",
       "</g>\n",
       "<!-- &#45;3621915158138996511&#45;&gt;&#45;144002576828583778 -->\n",
       "<!-- 738759363913049021 -->\n",
       "<g id=\"node14\" class=\"node\">\n",
       "<title>738759363913049021</title>\n",
       "<path fill=\"none\" stroke=\"#000000\" stroke-width=\"1.25\" d=\"M188.7222,-62C188.7222,-62 184.7954,-62 184.7954,-62 182.832,-62 180.8686,-60.0366 180.8686,-58.0732 180.8686,-58.0732 180.8686,-43.9268 180.8686,-43.9268 180.8686,-41.9634 182.832,-40 184.7954,-40 184.7954,-40 188.7222,-40 188.7222,-40 190.6856,-40 192.6489,-41.9634 192.6489,-43.9268 192.6489,-43.9268 192.6489,-58.0732 192.6489,-58.0732 192.6489,-60.0366 190.6856,-62 188.7222,-62\"/>\n",
       "<text text-anchor=\"middle\" x=\"186.7588\" y=\"-46.8\" font-family=\"Times,serif\" font-size=\"14.00\" fill=\"#000000\">i</text>\n",
       "</g>\n",
       "<!-- &#45;144002576828583778&#45;&gt;738759363913049021 -->\n",
       "<g id=\"edge16\" class=\"edge\">\n",
       "<title>&#45;144002576828583778&#45;&gt;738759363913049021</title>\n",
       "<path fill=\"none\" stroke=\"#000000\" stroke-width=\".5\" d=\"M187.6197,-119.8763C187.4287,-104.5921 187.0871,-77.2636 186.8967,-62.0292\"/>\n",
       "</g>\n",
       "<!-- 625776116177663425 -->\n",
       "<!-- &#45;5532960968932045710&#45;&gt;625776116177663425 -->\n",
       "<!-- &#45;5009800998607505040 -->\n",
       "<!-- 625776116177663425&#45;&gt;&#45;5009800998607505040 -->\n",
       "</g>\n",
       "</svg>\n",
       "</div>"
      ],
      "text/plain": [
       "<IPython.core.display.HTML object>"
      ]
     },
     "execution_count": 112,
     "metadata": {},
     "output_type": "execute_result"
    }
   ],
   "source": [
    "from liblet import side_by_side\n",
    "\n",
    "side_by_side(ProductionGraph(D[6]), ProductionGraph(D[7]))"
   ]
  }
 ],
 "metadata": {
  "kernelspec": {
   "display_name": "Python 3",
   "language": "python",
   "name": "python3"
  },
  "language_info": {
   "codemirror_mode": {
    "name": "ipython",
    "version": 3
   },
   "file_extension": ".py",
   "mimetype": "text/x-python",
   "name": "python",
   "nbconvert_exporter": "python",
   "pygments_lexer": "ipython3",
   "version": "3.7.2"
  }
 },
 "nbformat": 4,
 "nbformat_minor": 2
}
